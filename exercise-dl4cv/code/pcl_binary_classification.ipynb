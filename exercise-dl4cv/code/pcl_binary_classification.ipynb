{
 "cells": [
  {
   "cell_type": "markdown",
   "metadata": {},
   "source": [
    "# Point Cloud Binary Classification with PyTorch"
   ]
  },
  {
   "cell_type": "markdown",
   "metadata": {},
   "source": [
    "Make sure you are using the `dl4cv` conda environment."
   ]
  },
  {
   "cell_type": "markdown",
   "metadata": {},
   "source": [
    "## Dataset loading and visualization"
   ]
  },
  {
   "cell_type": "markdown",
   "metadata": {},
   "source": [
    "The input X contain 100 2D points, and y are their corresponding labels (0 or 1). The goal is to train a model that can classify every point to its correct label.\n"
   ]
  },
  {
   "cell_type": "code",
   "execution_count": 1,
   "metadata": {},
   "outputs": [
    {
     "data": {
      "image/png": "[encoded data removed]",
      "text/plain": [
       "<Figure size 640x480 with 1 Axes>"
      ]
     },
     "metadata": {},
     "output_type": "display_data"
    },
    {
     "data": {
      "text/plain": [
       "<Figure size 640x480 with 0 Axes>"
      ]
     },
     "metadata": {},
     "output_type": "display_data"
    }
   ],
   "source": [
    "%matplotlib inline\n",
    "import matplotlib.pyplot as plt\n",
    "import numpy as np\n",
    "import torch\n",
    "import torch.nn as nn\n",
    "import torch.nn.functional as F\n",
    "import torch.optim as optim\n",
    "from torch.utils.data import Dataset\n",
    "from torch.utils.data import DataLoader\n",
    "from torch.optim import Adam\n",
    "\n",
    "dataset = np.load('data/2d_pcl_dataset.npz')\n",
    "X, y = dataset['X'], dataset['y']\n",
    "\n",
    "X0 = X[y==0] # 50 2D points have label 0\n",
    "X1 = X[y==1] # 50 2D points have label 1\n",
    "\n",
    "def plot(X0, X1, fit_param=None):\n",
    "    plt.scatter(X0[:,0], X0[:,1], color='red', label=0)\n",
    "    plt.scatter(X1[:,0], X1[:,1], color='blue', label=1)\n",
    "    \n",
    "    plt.xlim([-0.55, 0.55])\n",
    "    plt.ylim([-0.35, 0.25])\n",
    "    plt.legend()\n",
    "    plt.show()\n",
    "    plt.clf()\n",
    "\n",
    "plot(X0, X1)"
   ]
  },
  {
   "cell_type": "markdown",
   "metadata": {},
   "source": [
    "## Logistic Regression for the point cloud classification task\n"
   ]
  },
  {
   "cell_type": "markdown",
   "metadata": {},
   "source": [
    "Starting by filling in the `Simple2DDataset` class below. First, in the class constructore `__init__`, you will need to read the right `2d_pcl_dataset.npz` from disk.\n",
    "\n",
    "Second, in the `__getitem__`, you will need to take a single data point and its label based on its index `idx`"
   ]
  },
  {
   "cell_type": "code",
   "execution_count": 8,
   "metadata": {},
   "outputs": [
    {
     "data": {
      "text/plain": [
       "((100, 2), (100,))"
      ]
     },
     "execution_count": 8,
     "metadata": {},
     "output_type": "execute_result"
    }
   ],
   "source": [
    "data = np.load(\"data/2d_pcl_dataset.npz\")\n",
    "X, y = data[\"X\"], data[\"y\"]\n",
    "X.shape, y.shape"
   ]
  },
  {
   "cell_type": "code",
   "execution_count": 11,
   "metadata": {},
   "outputs": [
    {
     "data": {
      "text/plain": [
       "array([ 0.27714074, -0.27976262])"
      ]
     },
     "execution_count": 11,
     "metadata": {},
     "output_type": "execute_result"
    }
   ],
   "source": [
    "X[2]"
   ]
  },
  {
   "cell_type": "code",
   "execution_count": 22,
   "metadata": {},
   "outputs": [],
   "source": [
    "class Simple2DDataset(Dataset):\n",
    "    def __init__(self):\n",
    "        super().__init__()\n",
    "        #########################################################################\n",
    "        # TODO: read data from disk using np.load.\n",
    "        # Data is located in the folder \"data\".\n",
    "        # Save samples and labels to class members self.X and self.y respectively.\n",
    "        # samples should be an Nx2 numpy array. Labels should be Nx1.\n",
    "        #########################################################################\n",
    "        data = np.load(\"data/2d_pcl_dataset.npz\")\n",
    "        X, y = data[\"X\"], data[\"y\"]\n",
    "\n",
    "        self.X = X\n",
    "        self.y = y\n",
    "     \n",
    "    def __len__(self):\n",
    "        # Returns the number of samples in the dataset.\n",
    "        return self.X.shape[0]\n",
    "    \n",
    "    def __getitem__(self, idx):\n",
    "        #########################################################################\n",
    "        # TODO: return the sample and label with index idx\n",
    "        #########################################################################\n",
    "        # print(f\"idx: {type(idx)}, {idx}\")\n",
    "        point = self.X[idx]\n",
    "        label = self.y[idx]\n",
    "        \n",
    "        # Convert to tensor.\n",
    "        return torch.from_numpy(point).float(), \\\n",
    "               torch.from_numpy(label[np.newaxis]).float()\n"
   ]
  },
  {
   "cell_type": "markdown",
   "metadata": {},
   "source": [
    "With the complete `Simple2DDataset`, we can create a PyTorch dataloader\n",
    "\n",
    "**NOTE**: if you encounter some unexpected errors in data loading, try setting `NUM_WORKERS = 0`"
   ]
  },
  {
   "cell_type": "code",
   "execution_count": 23,
   "metadata": {},
   "outputs": [],
   "source": [
    "BATCH_SIZE = 8\n",
    "NUM_WORKERS = 4\n",
    "\n",
    "# create the dataloader\n",
    "dataset = Simple2DDataset()\n",
    "train_dataloader = DataLoader(\n",
    "    dataset,\n",
    "    batch_size=BATCH_SIZE,\n",
    "    num_workers=NUM_WORKERS,\n",
    "    shuffle=True\n",
    ")"
   ]
  },
  {
   "cell_type": "markdown",
   "metadata": {},
   "source": [
    "Now, define your first network by filling in the `LinearClassifier` class below.\n",
    "\n",
    "Add a single linear layer `nn.Linear` inside the `nn.Sequential` call. The input is 2D, and the output should be a single value, corresponding to the probability of a given 2D point being part of cluster 0."
   ]
  },
  {
   "cell_type": "code",
   "execution_count": 24,
   "metadata": {},
   "outputs": [],
   "source": [
    "INPUT_DIM = 2\n",
    "OUTPUT_DIM = 1\n",
    "\n",
    "class LinearClassifier(nn.Module):\n",
    "    def __init__(self):\n",
    "        super().__init__()\n",
    "\n",
    "        self.codename = 'linear'\n",
    "\n",
    "        #########################################################################\n",
    "        # TODO: add a single linear layer with nn.Linear, inside the `nn.Sequential` call.\n",
    "        # Input is 2D.\n",
    "        # Output is a single value.\n",
    "        #########################################################################\n",
    "        self.model = nn.Sequential(\n",
    "            nn.Linear(in_features=INPUT_DIM, out_features=OUTPUT_DIM)\n",
    "        )\n",
    "        \n",
    "    def forward(self, batch):\n",
    "        # Process batch using the defined model.\n",
    "        x = self.model(batch)\n",
    "        # Final sigmoid activation to obtain a probability between 0 and 1.\n",
    "        return torch.sigmoid(x)"
   ]
  },
  {
   "cell_type": "markdown",
   "metadata": {},
   "source": [
    "Now, you are asked to implement the training loop below"
   ]
  },
  {
   "cell_type": "code",
   "execution_count": 25,
   "metadata": {},
   "outputs": [],
   "source": [
    "def train(net, optimizer, dataloader, epoch):\n",
    "    net.train()\n",
    "    loss_sum = 0  # Initialise training loss\n",
    "    for batch_idx, (point, label) in enumerate(dataloader):\n",
    "        # First we need to zero the gradient, otherwise PyTorch would accumulate them\n",
    "        optimizer.zero_grad()\n",
    "\n",
    "        #########################################################################\n",
    "        #TODO: \n",
    "        # 1. forward pass of the network to obtain the predictions given the batch\n",
    "        # 2. compute the loss using F.binary_cross_entropy\n",
    "        # 3. backward pass on the loss using loss.backward(), and one step \n",
    "        # of gradient descent (optimization) using optimizer.step()\n",
    "        #########################################################################\n",
    "        pred = net(point)  # forward pass\n",
    "        loss = F.binary_cross_entropy(pred, label)\n",
    "        loss.backward()\n",
    "        optimizer.step()\n",
    "\n",
    "        loss_sum += loss.item()\n",
    "    return loss_sum\n",
    "        "
   ]
  },
  {
   "cell_type": "markdown",
   "metadata": {},
   "source": [
    "You can now run below to train the linear model."
   ]
  },
  {
   "cell_type": "code",
   "execution_count": 26,
   "metadata": {
    "scrolled": true,
    "tags": []
   },
   "outputs": [
    {
     "name": "stdout",
     "output_type": "stream",
     "text": [
      "[Epoch 01] Loss: 7.6307\n",
      "[Epoch 02] Loss: 6.3255\n",
      "[Epoch 03] Loss: 5.4234\n",
      "[Epoch 04] Loss: 5.0313\n",
      "[Epoch 05] Loss: 4.7713\n",
      "[Epoch 06] Loss: 4.6430\n",
      "[Epoch 07] Loss: 4.8698\n",
      "[Epoch 08] Loss: 4.3242\n",
      "[Epoch 09] Loss: 4.1105\n",
      "[Epoch 10] Loss: 4.0132\n",
      "[Epoch 11] Loss: 4.0350\n",
      "[Epoch 12] Loss: 3.8130\n",
      "[Epoch 13] Loss: 3.7800\n",
      "[Epoch 14] Loss: 3.7857\n",
      "[Epoch 15] Loss: 3.7396\n",
      "[Epoch 16] Loss: 3.6734\n",
      "[Epoch 17] Loss: 3.8920\n",
      "[Epoch 18] Loss: 3.7787\n",
      "[Epoch 19] Loss: 3.5589\n",
      "[Epoch 20] Loss: 3.5844\n",
      "[Epoch 21] Loss: 3.6211\n",
      "[Epoch 22] Loss: 3.5178\n",
      "[Epoch 23] Loss: 3.5202\n",
      "[Epoch 24] Loss: 3.5343\n",
      "[Epoch 25] Loss: 3.5406\n",
      "[Epoch 26] Loss: 3.6759\n",
      "[Epoch 27] Loss: 3.5891\n",
      "[Epoch 28] Loss: 3.4914\n",
      "[Epoch 29] Loss: 3.5043\n",
      "[Epoch 30] Loss: 3.6192\n",
      "[Epoch 31] Loss: 3.5608\n",
      "[Epoch 32] Loss: 3.6805\n",
      "[Epoch 33] Loss: 3.6591\n",
      "[Epoch 34] Loss: 3.6482\n",
      "[Epoch 35] Loss: 3.6150\n",
      "[Epoch 36] Loss: 3.4681\n",
      "[Epoch 37] Loss: 3.4973\n",
      "[Epoch 38] Loss: 3.4917\n",
      "[Epoch 39] Loss: 3.4920\n",
      "[Epoch 40] Loss: 3.5760\n",
      "[Epoch 41] Loss: 3.4736\n",
      "[Epoch 42] Loss: 3.4632\n",
      "[Epoch 43] Loss: 3.5068\n",
      "[Epoch 44] Loss: 3.6098\n",
      "[Epoch 45] Loss: 3.6392\n",
      "[Epoch 46] Loss: 3.5184\n",
      "[Epoch 47] Loss: 3.4949\n",
      "[Epoch 48] Loss: 3.5050\n",
      "[Epoch 49] Loss: 3.4614\n",
      "[Epoch 50] Loss: 3.5977\n",
      "[Epoch 51] Loss: 3.4413\n",
      "[Epoch 52] Loss: 3.7695\n",
      "[Epoch 53] Loss: 3.5600\n",
      "[Epoch 54] Loss: 3.6244\n",
      "[Epoch 55] Loss: 3.4789\n",
      "[Epoch 56] Loss: 3.6785\n",
      "[Epoch 57] Loss: 3.4643\n",
      "[Epoch 58] Loss: 3.4662\n",
      "[Epoch 59] Loss: 3.4831\n",
      "[Epoch 60] Loss: 3.4844\n",
      "[Epoch 61] Loss: 3.6596\n",
      "[Epoch 62] Loss: 3.6272\n",
      "[Epoch 63] Loss: 3.5967\n",
      "[Epoch 64] Loss: 3.9848\n",
      "[Epoch 65] Loss: 3.7675\n",
      "[Epoch 66] Loss: 3.4489\n",
      "[Epoch 67] Loss: 3.6926\n",
      "[Epoch 68] Loss: 3.4584\n",
      "[Epoch 69] Loss: 3.4576\n",
      "[Epoch 70] Loss: 3.5356\n",
      "[Epoch 71] Loss: 3.5550\n",
      "[Epoch 72] Loss: 3.5846\n",
      "[Epoch 73] Loss: 3.4564\n",
      "[Epoch 74] Loss: 3.5491\n",
      "[Epoch 75] Loss: 3.4438\n",
      "[Epoch 76] Loss: 3.4733\n",
      "[Epoch 77] Loss: 3.7469\n",
      "[Epoch 78] Loss: 3.5061\n",
      "[Epoch 79] Loss: 3.4502\n",
      "[Epoch 80] Loss: 3.7127\n",
      "[Epoch 81] Loss: 3.7146\n",
      "[Epoch 82] Loss: 3.5057\n",
      "[Epoch 83] Loss: 3.4657\n",
      "[Epoch 84] Loss: 3.5076\n",
      "[Epoch 85] Loss: 3.7239\n",
      "[Epoch 86] Loss: 3.4619\n",
      "[Epoch 87] Loss: 3.4286\n",
      "[Epoch 88] Loss: 3.5086\n",
      "[Epoch 89] Loss: 3.4650\n",
      "[Epoch 90] Loss: 3.6012\n",
      "[Epoch 91] Loss: 3.4840\n",
      "[Epoch 92] Loss: 3.4796\n",
      "[Epoch 93] Loss: 3.6118\n",
      "[Epoch 94] Loss: 3.5206\n",
      "[Epoch 95] Loss: 3.4821\n",
      "[Epoch 96] Loss: 3.4870\n",
      "[Epoch 97] Loss: 3.7345\n",
      "[Epoch 98] Loss: 3.4694\n",
      "[Epoch 99] Loss: 3.4772\n",
      "[Epoch 100] Loss: 3.6458\n"
     ]
    }
   ],
   "source": [
    "NUM_EPOCHS = 100\n",
    "# create the network.\n",
    "net = LinearClassifier()\n",
    "\n",
    "# create the optimizer.\n",
    "optimizer = Adam(net.parameters(), lr=0.1)\n",
    "\n",
    "best_accuracy = 0\n",
    "for epoch_idx in range(NUM_EPOCHS):\n",
    "    loss = train(net, optimizer, train_dataloader, epoch_idx)\n",
    "    print('[Epoch %02d] Loss: %.4f' % (epoch_idx + 1, loss))"
   ]
  },
  {
   "cell_type": "markdown",
   "metadata": {},
   "source": [
    "Now plot your result below.\n"
   ]
  },
  {
   "cell_type": "code",
   "execution_count": null,
   "metadata": {},
   "outputs": [],
   "source": []
  },
  {
   "cell_type": "code",
   "execution_count": 27,
   "metadata": {},
   "outputs": [
    {
     "data": {
      "image/png": "[encoded data removed]",
      "text/plain": [
       "<Figure size 640x480 with 1 Axes>"
      ]
     },
     "metadata": {},
     "output_type": "display_data"
    },
    {
     "data": {
      "text/plain": [
       "<Figure size 640x480 with 0 Axes>"
      ]
     },
     "metadata": {},
     "output_type": "display_data"
    }
   ],
   "source": [
    "p = np.linspace(-0.5, 0.5, 500)\n",
    "x_plot, y_plot = np.meshgrid(p, p)\n",
    "X_plot = np.stack((x_plot, y_plot), axis=2).reshape(-1, 2)\n",
    "X_plot = torch.from_numpy(X_plot).float()\n",
    "output = net(X_plot)\n",
    "output = output.detach().numpy()\n",
    "output = output.reshape(x_plot.shape[0], x_plot.shape[1])\n",
    "\n",
    "plt.contour(x_plot, y_plot, output, [0.5],\n",
    "                  colors=('k',),\n",
    "                  linewidths=(3,))\n",
    "plot(X0, X1)\n"
   ]
  },
  {
   "cell_type": "markdown",
   "metadata": {},
   "source": [
    "### Implement your first multi-layer perceptron (MLP) for point cloud classification\n",
    "Now you should notice that your logistic regression model cannot classify the point cloud correctly, and this is as expected :)  \n",
    "Therefore, we now ask you to implement an MLP for the same binary classification task."
   ]
  },
  {
   "cell_type": "code",
   "execution_count": 29,
   "metadata": {},
   "outputs": [],
   "source": [
    "# These are the parameters to be used\n",
    "nInput = 2\n",
    "nOutput = 1\n",
    "nHidden = 16\n",
    "act_fn = nn.ReLU()\n",
    "\n",
    "class MLP(nn.Module):\n",
    "    def __init__(self, nInput, nOutput, nHidden, act_fn):\n",
    "        super().__init__()\n",
    "\n",
    "        # Define the network layers in order.\n",
    "        # Input is 2D (nInput).\n",
    "        # Output is a single value (nOutput).\n",
    "        # Multiple linear layers each followed by a ReLU non-linearity (apart from the last).\n",
    "        #########################################################################\n",
    "        # TODO: add a two-layer MLP, inside the `nn.Sequential` call.\n",
    "        # Input is 2D.\n",
    "        # Output is a single value.\n",
    "\n",
    "        # Hint: unlike logistic regression where you need only one nn.Linear layer, \n",
    "        # here you will have two nn.Linear layers. After the first layer, we \n",
    "        # apply a ReLU activation function. The output is then passed to another \n",
    "        # linear layer. Note that you should use `nHidden` below as the hidden dimension \n",
    "        # of your linear layers.\n",
    "        #########################################################################\n",
    "        self.model = nn.Sequential(\n",
    "            nn.Linear(in_features=nInput, out_features=nHidden),\n",
    "            nn.ReLU(),\n",
    "            nn.Linear(in_features=nHidden, out_features=nOutput),\n",
    "        )\n",
    "        \n",
    "    def forward(self, batch):\n",
    "        # Process batch using the defined model.\n",
    "        x = self.model(batch)\n",
    "        # Final sigmoid activation to obtain a probability.\n",
    "        return torch.sigmoid(x)"
   ]
  },
  {
   "cell_type": "markdown",
   "metadata": {},
   "source": [
    "Run below again!"
   ]
  },
  {
   "cell_type": "code",
   "execution_count": 30,
   "metadata": {},
   "outputs": [
    {
     "name": "stdout",
     "output_type": "stream",
     "text": [
      "[Epoch 01] Loss: 5.6678\n",
      "[Epoch 02] Loss: 4.7220\n",
      "[Epoch 03] Loss: 4.1596\n",
      "[Epoch 04] Loss: 4.0201\n",
      "[Epoch 05] Loss: 4.3223\n",
      "[Epoch 06] Loss: 4.8003\n",
      "[Epoch 07] Loss: 4.2128\n",
      "[Epoch 08] Loss: 5.0096\n",
      "[Epoch 09] Loss: 4.4782\n",
      "[Epoch 10] Loss: 3.9148\n",
      "[Epoch 11] Loss: 3.6886\n",
      "[Epoch 12] Loss: 3.6845\n",
      "[Epoch 13] Loss: 3.7128\n",
      "[Epoch 14] Loss: 3.9333\n",
      "[Epoch 15] Loss: 3.6163\n",
      "[Epoch 16] Loss: 3.5070\n",
      "[Epoch 17] Loss: 3.8427\n",
      "[Epoch 18] Loss: 3.8894\n",
      "[Epoch 19] Loss: 4.1045\n",
      "[Epoch 20] Loss: 3.6407\n",
      "[Epoch 21] Loss: 3.6338\n",
      "[Epoch 22] Loss: 3.6390\n",
      "[Epoch 23] Loss: 3.7423\n",
      "[Epoch 24] Loss: 3.5957\n",
      "[Epoch 25] Loss: 3.2737\n",
      "[Epoch 26] Loss: 3.6683\n",
      "[Epoch 27] Loss: 3.5736\n",
      "[Epoch 28] Loss: 3.1165\n",
      "[Epoch 29] Loss: 3.0906\n",
      "[Epoch 30] Loss: 3.1204\n",
      "[Epoch 31] Loss: 2.9197\n",
      "[Epoch 32] Loss: 2.8600\n",
      "[Epoch 33] Loss: 3.0103\n",
      "[Epoch 34] Loss: 3.0069\n",
      "[Epoch 35] Loss: 2.5621\n",
      "[Epoch 36] Loss: 2.8934\n",
      "[Epoch 37] Loss: 2.7284\n",
      "[Epoch 38] Loss: 2.3705\n",
      "[Epoch 39] Loss: 2.4696\n",
      "[Epoch 40] Loss: 2.1034\n",
      "[Epoch 41] Loss: 1.5885\n",
      "[Epoch 42] Loss: 1.0744\n",
      "[Epoch 43] Loss: 0.9906\n",
      "[Epoch 44] Loss: 0.5881\n",
      "[Epoch 45] Loss: 0.5795\n",
      "[Epoch 46] Loss: 0.5426\n",
      "[Epoch 47] Loss: 0.3786\n",
      "[Epoch 48] Loss: 0.3144\n",
      "[Epoch 49] Loss: 0.3222\n",
      "[Epoch 50] Loss: 0.2713\n",
      "[Epoch 51] Loss: 0.2866\n",
      "[Epoch 52] Loss: 0.2225\n",
      "[Epoch 53] Loss: 0.2267\n",
      "[Epoch 54] Loss: 0.2013\n",
      "[Epoch 55] Loss: 0.1983\n",
      "[Epoch 56] Loss: 0.1828\n",
      "[Epoch 57] Loss: 0.1895\n",
      "[Epoch 58] Loss: 0.3084\n",
      "[Epoch 59] Loss: 0.2540\n",
      "[Epoch 60] Loss: 0.3505\n",
      "[Epoch 61] Loss: 0.1564\n",
      "[Epoch 62] Loss: 0.1150\n",
      "[Epoch 63] Loss: 0.1020\n",
      "[Epoch 64] Loss: 0.0834\n",
      "[Epoch 65] Loss: 0.1034\n",
      "[Epoch 66] Loss: 0.1140\n",
      "[Epoch 67] Loss: 0.0704\n",
      "[Epoch 68] Loss: 0.0804\n",
      "[Epoch 69] Loss: 0.0666\n",
      "[Epoch 70] Loss: 0.0576\n",
      "[Epoch 71] Loss: 0.0529\n",
      "[Epoch 72] Loss: 0.0556\n",
      "[Epoch 73] Loss: 0.0480\n",
      "[Epoch 74] Loss: 0.0512\n",
      "[Epoch 75] Loss: 0.0513\n",
      "[Epoch 76] Loss: 0.0633\n",
      "[Epoch 77] Loss: 0.0473\n",
      "[Epoch 78] Loss: 0.0392\n",
      "[Epoch 79] Loss: 0.0384\n",
      "[Epoch 80] Loss: 0.0374\n",
      "[Epoch 81] Loss: 0.0345\n",
      "[Epoch 82] Loss: 0.0408\n",
      "[Epoch 83] Loss: 0.0372\n",
      "[Epoch 84] Loss: 0.0349\n",
      "[Epoch 85] Loss: 0.0327\n",
      "[Epoch 86] Loss: 0.0320\n",
      "[Epoch 87] Loss: 0.0315\n",
      "[Epoch 88] Loss: 0.0278\n",
      "[Epoch 89] Loss: 0.0320\n",
      "[Epoch 90] Loss: 0.0282\n",
      "[Epoch 91] Loss: 0.0268\n",
      "[Epoch 92] Loss: 0.0259\n",
      "[Epoch 93] Loss: 0.0253\n",
      "[Epoch 94] Loss: 0.0243\n",
      "[Epoch 95] Loss: 0.0242\n",
      "[Epoch 96] Loss: 0.0272\n",
      "[Epoch 97] Loss: 0.0218\n",
      "[Epoch 98] Loss: 0.0232\n",
      "[Epoch 99] Loss: 0.0261\n",
      "[Epoch 100] Loss: 0.0215\n",
      "[Epoch 101] Loss: 0.0259\n",
      "[Epoch 102] Loss: 0.0207\n",
      "[Epoch 103] Loss: 0.0211\n",
      "[Epoch 104] Loss: 0.0196\n",
      "[Epoch 105] Loss: 0.0223\n",
      "[Epoch 106] Loss: 0.0184\n",
      "[Epoch 107] Loss: 0.0191\n",
      "[Epoch 108] Loss: 0.0224\n",
      "[Epoch 109] Loss: 0.0198\n",
      "[Epoch 110] Loss: 0.0171\n",
      "[Epoch 111] Loss: 0.0165\n",
      "[Epoch 112] Loss: 0.0158\n",
      "[Epoch 113] Loss: 0.0159\n",
      "[Epoch 114] Loss: 0.0173\n",
      "[Epoch 115] Loss: 0.0164\n",
      "[Epoch 116] Loss: 0.0146\n",
      "[Epoch 117] Loss: 0.0158\n",
      "[Epoch 118] Loss: 0.0133\n",
      "[Epoch 119] Loss: 0.0147\n",
      "[Epoch 120] Loss: 0.0156\n",
      "[Epoch 121] Loss: 0.0139\n",
      "[Epoch 122] Loss: 0.0143\n",
      "[Epoch 123] Loss: 0.0123\n",
      "[Epoch 124] Loss: 0.0124\n",
      "[Epoch 125] Loss: 0.0120\n",
      "[Epoch 126] Loss: 0.0118\n",
      "[Epoch 127] Loss: 0.0111\n",
      "[Epoch 128] Loss: 0.0132\n",
      "[Epoch 129] Loss: 0.0124\n",
      "[Epoch 130] Loss: 0.0132\n",
      "[Epoch 131] Loss: 0.0109\n",
      "[Epoch 132] Loss: 0.0114\n",
      "[Epoch 133] Loss: 0.0101\n",
      "[Epoch 134] Loss: 0.0107\n",
      "[Epoch 135] Loss: 0.0116\n",
      "[Epoch 136] Loss: 0.0093\n",
      "[Epoch 137] Loss: 0.0108\n",
      "[Epoch 138] Loss: 0.0108\n",
      "[Epoch 139] Loss: 0.0097\n",
      "[Epoch 140] Loss: 0.0100\n",
      "[Epoch 141] Loss: 0.0115\n",
      "[Epoch 142] Loss: 0.0093\n",
      "[Epoch 143] Loss: 0.0090\n",
      "[Epoch 144] Loss: 0.0085\n",
      "[Epoch 145] Loss: 0.0087\n",
      "[Epoch 146] Loss: 0.0082\n",
      "[Epoch 147] Loss: 0.0095\n",
      "[Epoch 148] Loss: 0.0082\n",
      "[Epoch 149] Loss: 0.0086\n",
      "[Epoch 150] Loss: 0.0080\n",
      "[Epoch 151] Loss: 0.0083\n",
      "[Epoch 152] Loss: 0.0075\n",
      "[Epoch 153] Loss: 0.0087\n",
      "[Epoch 154] Loss: 0.0076\n",
      "[Epoch 155] Loss: 0.0079\n",
      "[Epoch 156] Loss: 0.0084\n",
      "[Epoch 157] Loss: 0.0076\n",
      "[Epoch 158] Loss: 0.0075\n",
      "[Epoch 159] Loss: 0.0077\n",
      "[Epoch 160] Loss: 0.0083\n",
      "[Epoch 161] Loss: 0.0078\n",
      "[Epoch 162] Loss: 0.0067\n",
      "[Epoch 163] Loss: 0.0068\n",
      "[Epoch 164] Loss: 0.0063\n",
      "[Epoch 165] Loss: 0.0063\n",
      "[Epoch 166] Loss: 0.0062\n",
      "[Epoch 167] Loss: 0.0070\n",
      "[Epoch 168] Loss: 0.0066\n",
      "[Epoch 169] Loss: 0.0059\n",
      "[Epoch 170] Loss: 0.0061\n",
      "[Epoch 171] Loss: 0.0059\n",
      "[Epoch 172] Loss: 0.0057\n",
      "[Epoch 173] Loss: 0.0056\n",
      "[Epoch 174] Loss: 0.0056\n",
      "[Epoch 175] Loss: 0.0053\n",
      "[Epoch 176] Loss: 0.0054\n",
      "[Epoch 177] Loss: 0.0052\n",
      "[Epoch 178] Loss: 0.0052\n",
      "[Epoch 179] Loss: 0.0058\n",
      "[Epoch 180] Loss: 0.0053\n",
      "[Epoch 181] Loss: 0.0056\n",
      "[Epoch 182] Loss: 0.0049\n",
      "[Epoch 183] Loss: 0.0050\n",
      "[Epoch 184] Loss: 0.0048\n",
      "[Epoch 185] Loss: 0.0054\n",
      "[Epoch 186] Loss: 0.0047\n",
      "[Epoch 187] Loss: 0.0048\n",
      "[Epoch 188] Loss: 0.0050\n",
      "[Epoch 189] Loss: 0.0045\n",
      "[Epoch 190] Loss: 0.0046\n",
      "[Epoch 191] Loss: 0.0044\n",
      "[Epoch 192] Loss: 0.0048\n",
      "[Epoch 193] Loss: 0.0043\n",
      "[Epoch 194] Loss: 0.0043\n",
      "[Epoch 195] Loss: 0.0046\n",
      "[Epoch 196] Loss: 0.0043\n",
      "[Epoch 197] Loss: 0.0042\n",
      "[Epoch 198] Loss: 0.0043\n",
      "[Epoch 199] Loss: 0.0040\n",
      "[Epoch 200] Loss: 0.0040\n"
     ]
    }
   ],
   "source": [
    "NUM_EPOCHS = 200\n",
    "\n",
    "# create the network.\n",
    "net = MLP(nInput, nOutput, nHidden, act_fn)\n",
    "\n",
    "# create the optimizer.\n",
    "optimizer = Adam(net.parameters(), lr=0.1)\n",
    "\n",
    "best_accuracy = 0\n",
    "for epoch_idx in range(NUM_EPOCHS):\n",
    "    loss = train(net, optimizer, train_dataloader, epoch_idx)\n",
    "    print('[Epoch %02d] Loss: %.4f' % (epoch_idx + 1, loss))"
   ]
  },
  {
   "cell_type": "markdown",
   "metadata": {},
   "source": [
    "Again plot your result. You should see that the decision boundary can clearly separate the point clouds.\n"
   ]
  },
  {
   "cell_type": "code",
   "execution_count": 31,
   "metadata": {},
   "outputs": [
    {
     "data": {
      "image/png": "[encoded data removed]",
      "text/plain": [
       "<Figure size 640x480 with 1 Axes>"
      ]
     },
     "metadata": {},
     "output_type": "display_data"
    },
    {
     "data": {
      "text/plain": [
       "<Figure size 640x480 with 0 Axes>"
      ]
     },
     "metadata": {},
     "output_type": "display_data"
    }
   ],
   "source": [
    "p = np.linspace(-0.5, 0.5, 500)\n",
    "x_plot, y_plot = np.meshgrid(p, p)\n",
    "X_plot = np.stack((x_plot, y_plot), axis=2).reshape(-1, 2)\n",
    "X_plot = torch.from_numpy(X_plot).float()\n",
    "output = net(X_plot)\n",
    "output = output.detach().numpy()\n",
    "output = output.reshape(x_plot.shape[0], x_plot.shape[1])\n",
    "\n",
    "plt.contour(x_plot, y_plot, output, [0.5],\n",
    "                  colors=('k',),\n",
    "                  linewidths=(3,))\n",
    "plot(X0, X1)"
   ]
  },
  {
   "cell_type": "markdown",
   "metadata": {},
   "source": [
    "When you are done, move forward to `image_classification.ipynb`."
   ]
  },
  {
   "cell_type": "markdown",
   "metadata": {},
   "source": []
  }
 ],
 "metadata": {
  "kernelspec": {
   "display_name": "Python 3.9.12 ('base')",
   "language": "python",
   "name": "python3"
  },
  "language_info": {
   "codemirror_mode": {
    "name": "ipython",
    "version": 3
   },
   "file_extension": ".py",
   "mimetype": "text/x-python",
   "name": "python",
   "nbconvert_exporter": "python",
   "pygments_lexer": "ipython3",
   "version": "3.10.13"
  },
  "vscode": {
   "interpreter": {
    "hash": "d268b61a0efacafa8645774cb6d0204c9f01d7563ef03f7672146d044e8f345c"
   }
  }
 },
 "nbformat": 4,
 "nbformat_minor": 4
}
