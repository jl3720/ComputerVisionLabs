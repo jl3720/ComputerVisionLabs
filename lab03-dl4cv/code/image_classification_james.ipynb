{
  "cells": [
    {
      "cell_type": "markdown",
      "metadata": {
        "id": "fRjnBp0B_HKj"
      },
      "source": [
        "# Image Classification with PyTorch"
      ]
    },
    {
      "cell_type": "markdown",
      "metadata": {
        "id": "Y9F7H0XI_HKm"
      },
      "source": [
        "## Data loading\n"
      ]
    },
    {
      "cell_type": "code",
      "execution_count": 1,
      "metadata": {
        "id": "vnPEQx8j_HKn"
      },
      "outputs": [],
      "source": [
        "import numpy as np\n",
        "import matplotlib.pyplot as plt\n",
        "\n",
        "import torch\n",
        "import torch.nn as nn\n",
        "import torch.nn.functional as F\n",
        "import torch.optim as optim\n",
        "from torch.utils.data import DataLoader\n",
        "import torchvision\n",
        "from torchvision import datasets, transforms"
      ]
    },
    {
      "cell_type": "code",
      "execution_count": 2,
      "metadata": {
        "colab": {
          "base_uri": "https://localhost:8080/"
        },
        "id": "f7uGF0vJ_HKo",
        "outputId": "a4151aa5-6ebe-4f90-d1c3-06c342f6e65f"
      },
      "outputs": [
        {
          "output_type": "stream",
          "name": "stdout",
          "text": [
            "Downloading http://yann.lecun.com/exdb/mnist/train-images-idx3-ubyte.gz\n",
            "Downloading http://yann.lecun.com/exdb/mnist/train-images-idx3-ubyte.gz to data/MNIST/raw/train-images-idx3-ubyte.gz\n"
          ]
        },
        {
          "output_type": "stream",
          "name": "stderr",
          "text": [
            "100%|██████████| 9912422/9912422 [00:00<00:00, 23651401.79it/s]\n"
          ]
        },
        {
          "output_type": "stream",
          "name": "stdout",
          "text": [
            "Extracting data/MNIST/raw/train-images-idx3-ubyte.gz to data/MNIST/raw\n",
            "\n",
            "Downloading http://yann.lecun.com/exdb/mnist/train-labels-idx1-ubyte.gz\n",
            "Downloading http://yann.lecun.com/exdb/mnist/train-labels-idx1-ubyte.gz to data/MNIST/raw/train-labels-idx1-ubyte.gz\n"
          ]
        },
        {
          "output_type": "stream",
          "name": "stderr",
          "text": [
            "100%|██████████| 28881/28881 [00:00<00:00, 132533581.86it/s]\n"
          ]
        },
        {
          "output_type": "stream",
          "name": "stdout",
          "text": [
            "Extracting data/MNIST/raw/train-labels-idx1-ubyte.gz to data/MNIST/raw\n",
            "\n",
            "Downloading http://yann.lecun.com/exdb/mnist/t10k-images-idx3-ubyte.gz\n",
            "Downloading http://yann.lecun.com/exdb/mnist/t10k-images-idx3-ubyte.gz to data/MNIST/raw/t10k-images-idx3-ubyte.gz\n"
          ]
        },
        {
          "output_type": "stream",
          "name": "stderr",
          "text": [
            "100%|██████████| 1648877/1648877 [00:00<00:00, 27966611.79it/s]\n"
          ]
        },
        {
          "output_type": "stream",
          "name": "stdout",
          "text": [
            "Extracting data/MNIST/raw/t10k-images-idx3-ubyte.gz to data/MNIST/raw\n",
            "\n",
            "Downloading http://yann.lecun.com/exdb/mnist/t10k-labels-idx1-ubyte.gz\n",
            "Downloading http://yann.lecun.com/exdb/mnist/t10k-labels-idx1-ubyte.gz to data/MNIST/raw/t10k-labels-idx1-ubyte.gz\n"
          ]
        },
        {
          "output_type": "stream",
          "name": "stderr",
          "text": [
            "100%|██████████| 4542/4542 [00:00<00:00, 23260718.89it/s]"
          ]
        },
        {
          "output_type": "stream",
          "name": "stdout",
          "text": [
            "Extracting data/MNIST/raw/t10k-labels-idx1-ubyte.gz to data/MNIST/raw\n",
            "\n"
          ]
        },
        {
          "output_type": "stream",
          "name": "stderr",
          "text": [
            "\n"
          ]
        }
      ],
      "source": [
        "# torchvision contains convinience functions for popular datasets\n",
        "ds_train = datasets.MNIST('data', train=True, download=True)"
      ]
    },
    {
      "cell_type": "markdown",
      "metadata": {
        "id": "SvMDCWzk_HKp"
      },
      "source": [
        "Each sample is a 28x28 image"
      ]
    },
    {
      "cell_type": "code",
      "execution_count": 3,
      "metadata": {
        "colab": {
          "base_uri": "https://localhost:8080/",
          "height": 154
        },
        "id": "rRcSZ-oM_HKp",
        "outputId": "4412c17d-084f-4779-b433-ccdb65a084b4"
      },
      "outputs": [
        {
          "output_type": "stream",
          "name": "stdout",
          "text": [
            "(<PIL.Image.Image image mode=L size=28x28 at 0x7F0F212F4F40>, 5)\n"
          ]
        },
        {
          "output_type": "execute_result",
          "data": {
            "text/plain": [
              "<PIL.Image.Image image mode=L size=120x120>"
            ],
            "image/png": "[encoded data removed]"
          },
          "metadata": {},
          "execution_count": 3
        }
      ],
      "source": [
        "# if we index this dataset, we get a single data point: a PIL image and an Integer\n",
        "print(ds_train[0])\n",
        "ds_train[0][0].resize((120,120))"
      ]
    },
    {
      "cell_type": "code",
      "execution_count": 4,
      "metadata": {
        "colab": {
          "base_uri": "https://localhost:8080/"
        },
        "id": "vQOmFwsU_HKq",
        "outputId": "928869b5-e4f9-4c6b-9dbd-afc75dbb89f1"
      },
      "outputs": [
        {
          "output_type": "stream",
          "name": "stderr",
          "text": [
            "/usr/local/lib/python3.10/dist-packages/torchvision/datasets/mnist.py:75: UserWarning: train_data has been renamed data\n",
            "  warnings.warn(\"train_data has been renamed data\")\n"
          ]
        },
        {
          "output_type": "execute_result",
          "data": {
            "text/plain": [
              "torch.Size([60000, 28, 28])"
            ]
          },
          "metadata": {},
          "execution_count": 4
        }
      ],
      "source": [
        "ds_train.train_data.shape"
      ]
    },
    {
      "cell_type": "markdown",
      "metadata": {
        "id": "z8U4ZiNQ_HKq"
      },
      "source": [
        "Let's transform the data to something that our Pytorch models will understand\n",
        "for this purpose, we can supply a transform function to the datase"
      ]
    },
    {
      "cell_type": "code",
      "execution_count": 5,
      "metadata": {
        "id": "xve5NeOV_HKq"
      },
      "outputs": [],
      "source": [
        "transform = transforms.Compose([\n",
        "    transforms.ToTensor(),\n",
        "])\n",
        "ds_train = datasets.MNIST('data', train=True, download=True, transform=transform)"
      ]
    },
    {
      "cell_type": "markdown",
      "metadata": {
        "id": "dydCkuCZ_HKq"
      },
      "source": [
        "The image is now a `torch.Tensor`"
      ]
    },
    {
      "cell_type": "code",
      "execution_count": 6,
      "metadata": {
        "colab": {
          "base_uri": "https://localhost:8080/"
        },
        "id": "DlpqRk8Q_HKr",
        "outputId": "afae5eb5-a7f2-431e-b21e-c9cde30e24c9"
      },
      "outputs": [
        {
          "output_type": "execute_result",
          "data": {
            "text/plain": [
              "torch.Tensor"
            ]
          },
          "metadata": {},
          "execution_count": 6
        }
      ],
      "source": [
        "type(ds_train[0][0])"
      ]
    },
    {
      "cell_type": "markdown",
      "metadata": {
        "id": "EMVFoKrZ_HKr"
      },
      "source": [
        "The normalization is something you learned about in the lecture. Normalizing with $\\mu=0, \\sigma=1$ corresponds to no normalization. Let's compute the proper normalization constants!"
      ]
    },
    {
      "cell_type": "code",
      "execution_count": 7,
      "metadata": {
        "id": "l25jRWD4_HKr"
      },
      "outputs": [],
      "source": [
        "# lets get only the images\n",
        "ims_train = ds_train.data\n",
        "ims_train = ims_train.float() / 255."
      ]
    },
    {
      "cell_type": "code",
      "execution_count": 8,
      "metadata": {
        "colab": {
          "base_uri": "https://localhost:8080/"
        },
        "id": "FBaFPY9P_HKs",
        "outputId": "357fbef1-0c08-4c37-afa6-dd3cbe002c74"
      },
      "outputs": [
        {
          "output_type": "execute_result",
          "data": {
            "text/plain": [
              "torch.Size([60000, 28, 28])"
            ]
          },
          "metadata": {},
          "execution_count": 8
        }
      ],
      "source": [
        "ims_train.shape"
      ]
    },
    {
      "cell_type": "code",
      "execution_count": 9,
      "metadata": {
        "colab": {
          "base_uri": "https://localhost:8080/"
        },
        "id": "wvxWYxek_HKs",
        "outputId": "e989a47d-6e69-4265-efc9-d50eb5852eac"
      },
      "outputs": [
        {
          "output_type": "stream",
          "name": "stdout",
          "text": [
            "torch.Size([]) torch.Size([])\n",
            "tensor(0.3081) tensor(0.1307)\n"
          ]
        }
      ],
      "source": [
        "#########################################################################\n",
        "# TODO: calculate the mean and std of MNIST images\n",
        "# hint: to look for operations on pytorch tensor, refer to the official PyTorch docs\n",
        "# https://pytorch.org/docs/stable/\n",
        "#########################################################################\n",
        "std, mu = torch.std_mean(ims_train, dim=(1,2,0))\n",
        "print(std.shape, mu.shape)\n",
        "print(std, mu)"
      ]
    },
    {
      "cell_type": "code",
      "execution_count": 10,
      "metadata": {
        "colab": {
          "base_uri": "https://localhost:8080/"
        },
        "id": "k9Pue6ny_HKs",
        "outputId": "51db23f4-d891-4000-b679-7aaab4b4c026"
      },
      "outputs": [
        {
          "output_type": "execute_result",
          "data": {
            "text/plain": [
              "(tensor(0.3081), tensor(0.1307))"
            ]
          },
          "metadata": {},
          "execution_count": 10
        }
      ],
      "source": [
        "std = ims_train.std()\n",
        "mean = ims_train.mean()\n",
        "std, mean"
      ]
    },
    {
      "cell_type": "markdown",
      "metadata": {
        "id": "g8IUejhI_HKs"
      },
      "source": [
        "We normalize the data as below."
      ]
    },
    {
      "cell_type": "code",
      "execution_count": 11,
      "metadata": {
        "id": "bTgs0PzN_HKt"
      },
      "outputs": [],
      "source": [
        "transform = transforms.Compose([\n",
        "    # transforms.Grayscale(),\n",
        "    transforms.ToTensor(),\n",
        "    transforms.Normalize(mean=mu, std=std),\n",
        "])\n",
        "ds_train = datasets.MNIST('data', train=True, download=True, transform=transform)\n",
        "ds_test = datasets.MNIST('data', train=False, download=True, transform=transform)"
      ]
    },
    {
      "cell_type": "code",
      "execution_count": 12,
      "metadata": {
        "colab": {
          "base_uri": "https://localhost:8080/"
        },
        "id": "QqC1ImLE_HKt",
        "outputId": "a3f26e90-9ec4-457e-978f-4a2740832956"
      },
      "outputs": [
        {
          "output_type": "execute_result",
          "data": {
            "text/plain": [
              "(tensor(-0.4241), tensor(2.8215), tensor(0.1307))"
            ]
          },
          "metadata": {},
          "execution_count": 12
        }
      ],
      "source": [
        "ds_train[0][0].min(), ds_train[0][0].max(), ds_train.data.float().mean()/255"
      ]
    },
    {
      "cell_type": "markdown",
      "metadata": {
        "id": "w04ZkE4__HKt"
      },
      "source": [
        "## Note\n",
        "\n",
        "**Something has gone wrong in calculating the mean and std, we should have values centered around 0, and std of 1.**\n",
        "\n",
        "**However, we have mean value of 0.1307 with larger std than expected, and values are not centred around 0.**"
      ]
    },
    {
      "cell_type": "code",
      "execution_count": 13,
      "metadata": {
        "colab": {
          "base_uri": "https://localhost:8080/",
          "height": 465
        },
        "id": "Ebj4FEZZ_HKu",
        "outputId": "4c69a5d3-e3a5-437c-a448-a1bea655d45f"
      },
      "outputs": [
        {
          "output_type": "stream",
          "name": "stdout",
          "text": [
            "torch.Size([1, 28, 28])\n"
          ]
        },
        {
          "output_type": "execute_result",
          "data": {
            "text/plain": [
              "<matplotlib.colorbar.Colorbar at 0x7f0e548c32b0>"
            ]
          },
          "metadata": {},
          "execution_count": 13
        },
        {
          "output_type": "display_data",
          "data": {
            "text/plain": [
              "<Figure size 640x480 with 2 Axes>"
            ],
            "image/png": "[encoded data removed]"
          },
          "metadata": {}
        }
      ],
      "source": [
        "print(ds_train[0][0].shape)\n",
        "plt.imshow(ds_train[0][0][0], cmap=\"gray\")\n",
        "plt.colorbar()"
      ]
    },
    {
      "cell_type": "markdown",
      "metadata": {
        "id": "EuGSborm_HKu"
      },
      "source": [
        "Next, we want to receive mini-batches, not only single data points.\n",
        "We use PyTorch's DataLoader class. Build a dataloader with a batch size of 64 and 4 workers (number of subprocess that peform the dataloading). Important: you need to shuffle the training data, not the test data.\n",
        "\n",
        "**NOTE**: if you encounter some unexpected errors in data loading, try setting `NUM_WORKERS = 0`"
      ]
    },
    {
      "cell_type": "code",
      "execution_count": 14,
      "metadata": {
        "id": "VY9AzSti_HKu"
      },
      "outputs": [],
      "source": [
        "BATCH_SIZE = 64\n",
        "NUM_WORKERS = 0\n",
        "#########################################################################\n",
        "# TODO: Build a dataloader for both train and test data.\n",
        "#########################################################################\n",
        "dl_train = DataLoader(ds_train, batch_size=BATCH_SIZE, num_workers=NUM_WORKERS, shuffle=True)\n",
        "dl_test = DataLoader(ds_test, batch_size=BATCH_SIZE, num_workers=NUM_WORKERS)"
      ]
    },
    {
      "cell_type": "markdown",
      "metadata": {
        "id": "QYaZOqac_HKu"
      },
      "source": [
        "## MLP in Pytorch\n",
        "\n",
        "Ok, the dataloading works. Let's build our model, PyTorch makes this very easy. We will build replicate the model from our last exercises. However, now, we add another variable called `nLayer` that indicates how many linear layers that in your network. Please adapt your code from last exercise accordingly to allow different number of layers."
      ]
    },
    {
      "cell_type": "code",
      "execution_count": 15,
      "metadata": {
        "id": "rX30QYP5_HKv"
      },
      "outputs": [],
      "source": [
        "# These are the parameters to be used\n",
        "nInput = 784\n",
        "nOutput = 10\n",
        "nLayer = 2\n",
        "nHidden = 16\n",
        "act_fn = nn.ReLU()"
      ]
    },
    {
      "cell_type": "code",
      "execution_count": 16,
      "metadata": {
        "id": "lFyBQDGz_HKv"
      },
      "outputs": [],
      "source": [
        "#########################################################################\n",
        "# TODO: Implement the __init__ of the MLP class.\n",
        "# insert the activation after every linear layer. Important: the number of\n",
        "# hidden layers should be variable!\n",
        "#########################################################################\n",
        "\n",
        "class MLP(nn.Module):\n",
        "    def __init__(self, nInput, nOutput, nLayer, nHidden, act_fn):\n",
        "        super(MLP, self).__init__()\n",
        "        layers = []\n",
        "\n",
        "        ##### implement this part #####\n",
        "        if nLayer == 1:\n",
        "            layers.append(nn.Linear(nInput, nOutput))\n",
        "        else:  # nLayer >= 2\n",
        "            layers.append(nn.Linear(nInput, nHidden))\n",
        "            layers.append(act_fn)\n",
        "            for i in range(nLayer-1):  # Already appended one\n",
        "                if i+1==nLayer-1:  # if last layer\n",
        "                    layers.append(nn.Linear(in_features=nHidden, out_features=nOutput))\n",
        "                    print(f\"{i}: Appended last layer\")\n",
        "                    # Don't append activation to last layer\n",
        "                else:\n",
        "                    layers.append(nn.Linear(in_features=nHidden, out_features=nHidden))\n",
        "                    layers.append(act_fn)\n",
        "                    print(f\"{i}: Appended hidden\")\n",
        "        ###############################\n",
        "\n",
        "        self.model = nn.Sequential(*layers)\n",
        "\n",
        "    def forward(self, x):\n",
        "        x = torch.flatten(x, 1)\n",
        "        return self.model(x)"
      ]
    },
    {
      "cell_type": "code",
      "execution_count": 17,
      "metadata": {
        "scrolled": true,
        "colab": {
          "base_uri": "https://localhost:8080/"
        },
        "id": "judB2D9L_HKz",
        "outputId": "ca6cdd5b-9eb7-4385-e428-92e6b0428f2c"
      },
      "outputs": [
        {
          "output_type": "stream",
          "name": "stdout",
          "text": [
            "torch.Size([1, 1, 28, 28])\n",
            "0: Appended last layer\n"
          ]
        },
        {
          "output_type": "execute_result",
          "data": {
            "text/plain": [
              "torch.Size([1, 10])"
            ]
          },
          "metadata": {},
          "execution_count": 17
        }
      ],
      "source": [
        "# Let's test if the forward pass works\n",
        "# this should print torch.Size([1, 10])\n",
        "t = torch.randn(1,1,28,28)\n",
        "print(t.size())\n",
        "mlp = MLP(nInput, nOutput, nLayer, nHidden, act_fn)\n",
        "mlp(t).shape"
      ]
    },
    {
      "cell_type": "code",
      "execution_count": 18,
      "metadata": {
        "colab": {
          "base_uri": "https://localhost:8080/"
        },
        "id": "hfCs9VYr_HK0",
        "outputId": "f91cac7a-f838-4424-8447-3916ba80553f"
      },
      "outputs": [
        {
          "output_type": "execute_result",
          "data": {
            "text/plain": [
              "MLP(\n",
              "  (model): Sequential(\n",
              "    (0): Linear(in_features=784, out_features=16, bias=True)\n",
              "    (1): ReLU()\n",
              "    (2): Linear(in_features=16, out_features=10, bias=True)\n",
              "  )\n",
              ")"
            ]
          },
          "metadata": {},
          "execution_count": 18
        }
      ],
      "source": [
        "mlp"
      ]
    },
    {
      "cell_type": "markdown",
      "metadata": {
        "id": "D9LnzUNu_HK0"
      },
      "source": [
        "We already implemented the test function for you"
      ]
    },
    {
      "cell_type": "code",
      "execution_count": 50,
      "metadata": {
        "id": "xX-HagJb_HK0"
      },
      "outputs": [],
      "source": [
        "def test(model, dl_test, device='cpu'):\n",
        "    model.eval()\n",
        "    test_loss = 0\n",
        "    correct = 0\n",
        "    with torch.no_grad():\n",
        "        for data, target in dl_test:\n",
        "            data, target = data.to(device), target.to(device)\n",
        "            output = model(data)\n",
        "            test_loss += F.cross_entropy(output, target, reduction='sum').item()  # sum up batch loss\n",
        "            pred = output.argmax(dim=1, keepdim=True)  # get the index of the max log-probability\n",
        "            correct += pred.eq(target.view_as(pred)).sum().item()\n",
        "\n",
        "    test_loss /= len(dl_test.dataset)\n",
        "\n",
        "    print('\\nTest set: Average loss: {:.4f}, Accuracy: {}/{} ({:.3f}%)\\n'.format(\n",
        "        test_loss, correct, len(dl_test.dataset),\n",
        "        100. * correct / len(dl_test.dataset)))"
      ]
    },
    {
      "cell_type": "markdown",
      "metadata": {
        "id": "8xYzArh5_HK0"
      },
      "source": [
        "Now you only need to implement the training and you are good to go"
      ]
    },
    {
      "cell_type": "code",
      "execution_count": 51,
      "metadata": {
        "id": "fH2HoKZ7_HK1"
      },
      "outputs": [],
      "source": [
        "#########################################################################\n",
        "# TODO: Implement the missing part of the training function. As a loss function we want to use cross entropy\n",
        "# It can be called with F.cross_entropy().\n",
        "# Hint: Pass through the model -> Backpropagate gradients -> Take gradient step\n",
        "#########################################################################\n",
        "\n",
        "def train(model, dl_train, optimizer, epoch, log_interval=100, device='cpu'):\n",
        "    model.train()\n",
        "    model.to(device)\n",
        "    correct = 0\n",
        "    for batch_idx, (data, target) in enumerate(dl_train):\n",
        "        data, target = data.to(device), target.to(device)\n",
        "\n",
        "        # first we need to zero the gradient, otherwise PyTorch would accumulate them\n",
        "        optimizer.zero_grad()\n",
        "\n",
        "        ##### implement this part #####\n",
        "        # Forward\n",
        "        output = model(data)\n",
        "\n",
        "        # Backward pass & updates\n",
        "        loss = F.cross_entropy(output, target)\n",
        "        loss.backward()\n",
        "        optimizer.step()\n",
        "\n",
        "        ###############################\n",
        "\n",
        "        # stats\n",
        "        pred = output.argmax(dim=1, keepdim=True)  # get the index of the max log-probability\n",
        "        correct += pred.eq(target.view_as(pred)).sum().item()\n",
        "\n",
        "        if batch_idx % log_interval == 0:\n",
        "            print('Train Epoch: {} [{}/{} ({:.0f}%)]\\tLoss: {:.6f}'.format(\n",
        "                epoch, batch_idx * len(data), len(dl_train.dataset),\n",
        "                100. * batch_idx / len(dl_train), loss.item()))\n",
        "\n",
        "    print('\\nTrain set: Average loss: {:.4f}, Accuracy: {}/{} ({:.1f}%)\\n'.format(\n",
        "        loss, correct, len(dl_train.dataset),\n",
        "        100. * correct / len(dl_train.dataset)))"
      ]
    },
    {
      "cell_type": "markdown",
      "metadata": {
        "id": "GSETfCGz_HK1"
      },
      "source": [
        "Ok, the setup is almost done. The onoly missing part is the optimizer. We are going to use Adam."
      ]
    },
    {
      "cell_type": "code",
      "execution_count": 21,
      "metadata": {
        "colab": {
          "base_uri": "https://localhost:8080/"
        },
        "id": "M8zTPgjZ_HK1",
        "outputId": "9948624f-f583-43af-d506-cbb4b8d69c0e"
      },
      "outputs": [
        {
          "output_type": "stream",
          "name": "stdout",
          "text": [
            "0: Appended last layer\n"
          ]
        }
      ],
      "source": [
        "# reinitialize the mlp, so we can play with parameters right here\n",
        "mlp = MLP(nInput, nOutput, nLayer, nHidden, act_fn)\n",
        "optimizer = optim.Adam(mlp.parameters())"
      ]
    },
    {
      "cell_type": "code",
      "execution_count": null,
      "metadata": {
        "scrolled": true,
        "id": "wt5xHCK4_HK2",
        "outputId": "f27e8383-e64f-4d62-97d2-58a33bb0e29f"
      },
      "outputs": [
        {
          "name": "stdout",
          "output_type": "stream",
          "text": [
            "Train Epoch: 1 [0/60000 (0%)]\tLoss: 0.321814\n",
            "Train Epoch: 1 [6400/60000 (11%)]\tLoss: 0.349885\n",
            "Train Epoch: 1 [12800/60000 (21%)]\tLoss: 0.342126\n",
            "Train Epoch: 1 [19200/60000 (32%)]\tLoss: 0.562007\n",
            "Train Epoch: 1 [25600/60000 (43%)]\tLoss: 0.278707\n",
            "Train Epoch: 1 [32000/60000 (53%)]\tLoss: 0.645446\n",
            "Train Epoch: 1 [38400/60000 (64%)]\tLoss: 0.155175\n",
            "Train Epoch: 1 [44800/60000 (75%)]\tLoss: 0.124256\n",
            "Train Epoch: 1 [51200/60000 (85%)]\tLoss: 0.193237\n",
            "Train Epoch: 1 [57600/60000 (96%)]\tLoss: 0.330292\n",
            "\n",
            "Train set: Average loss: 0.1576, Accuracy: 56113/60000 (93.5%)\n",
            "\n",
            "\n",
            "Test set: Average loss: 0.2127, Accuracy: 9367/10000 (93.670%)\n",
            "\n",
            "Train Epoch: 2 [0/60000 (0%)]\tLoss: 0.169550\n",
            "Train Epoch: 2 [6400/60000 (11%)]\tLoss: 0.086084\n",
            "Train Epoch: 2 [12800/60000 (21%)]\tLoss: 0.334507\n",
            "Train Epoch: 2 [19200/60000 (32%)]\tLoss: 0.166039\n",
            "Train Epoch: 2 [25600/60000 (43%)]\tLoss: 0.125696\n",
            "Train Epoch: 2 [32000/60000 (53%)]\tLoss: 0.107942\n",
            "Train Epoch: 2 [38400/60000 (64%)]\tLoss: 0.143696\n",
            "Train Epoch: 2 [44800/60000 (75%)]\tLoss: 0.269516\n",
            "Train Epoch: 2 [51200/60000 (85%)]\tLoss: 0.072504\n",
            "Train Epoch: 2 [57600/60000 (96%)]\tLoss: 0.097897\n",
            "\n",
            "Train set: Average loss: 0.0202, Accuracy: 56504/60000 (94.2%)\n",
            "\n",
            "\n",
            "Test set: Average loss: 0.1901, Accuracy: 9466/10000 (94.660%)\n",
            "\n",
            "Train Epoch: 3 [0/60000 (0%)]\tLoss: 0.136372\n",
            "Train Epoch: 3 [6400/60000 (11%)]\tLoss: 0.320291\n",
            "Train Epoch: 3 [12800/60000 (21%)]\tLoss: 0.291478\n",
            "Train Epoch: 3 [19200/60000 (32%)]\tLoss: 0.255520\n",
            "Train Epoch: 3 [25600/60000 (43%)]\tLoss: 0.133884\n",
            "Train Epoch: 3 [32000/60000 (53%)]\tLoss: 0.159448\n",
            "Train Epoch: 3 [38400/60000 (64%)]\tLoss: 0.044971\n",
            "Train Epoch: 3 [44800/60000 (75%)]\tLoss: 0.315968\n",
            "Train Epoch: 3 [51200/60000 (85%)]\tLoss: 0.214554\n",
            "Train Epoch: 3 [57600/60000 (96%)]\tLoss: 0.180384\n",
            "\n",
            "Train set: Average loss: 0.0635, Accuracy: 56785/60000 (94.6%)\n",
            "\n",
            "\n",
            "Test set: Average loss: 0.1930, Accuracy: 9436/10000 (94.360%)\n",
            "\n",
            "Train Epoch: 4 [0/60000 (0%)]\tLoss: 0.373516\n",
            "Train Epoch: 4 [6400/60000 (11%)]\tLoss: 0.283255\n",
            "Train Epoch: 4 [12800/60000 (21%)]\tLoss: 0.102559\n",
            "Train Epoch: 4 [19200/60000 (32%)]\tLoss: 0.087151\n",
            "Train Epoch: 4 [25600/60000 (43%)]\tLoss: 0.207688\n",
            "Train Epoch: 4 [32000/60000 (53%)]\tLoss: 0.240360\n",
            "Train Epoch: 4 [38400/60000 (64%)]\tLoss: 0.127894\n",
            "Train Epoch: 4 [44800/60000 (75%)]\tLoss: 0.170803\n",
            "Train Epoch: 4 [51200/60000 (85%)]\tLoss: 0.142997\n",
            "Train Epoch: 4 [57600/60000 (96%)]\tLoss: 0.106177\n",
            "\n",
            "Train set: Average loss: 0.1052, Accuracy: 56930/60000 (94.9%)\n",
            "\n",
            "\n",
            "Test set: Average loss: 0.1782, Accuracy: 9477/10000 (94.770%)\n",
            "\n",
            "Train Epoch: 5 [0/60000 (0%)]\tLoss: 0.157241\n",
            "Train Epoch: 5 [6400/60000 (11%)]\tLoss: 0.239088\n",
            "Train Epoch: 5 [12800/60000 (21%)]\tLoss: 0.095976\n",
            "Train Epoch: 5 [19200/60000 (32%)]\tLoss: 0.078597\n",
            "Train Epoch: 5 [25600/60000 (43%)]\tLoss: 0.079491\n",
            "Train Epoch: 5 [32000/60000 (53%)]\tLoss: 0.199633\n",
            "Train Epoch: 5 [38400/60000 (64%)]\tLoss: 0.195241\n",
            "Train Epoch: 5 [44800/60000 (75%)]\tLoss: 0.138164\n",
            "Train Epoch: 5 [51200/60000 (85%)]\tLoss: 0.137285\n",
            "Train Epoch: 5 [57600/60000 (96%)]\tLoss: 0.165355\n",
            "\n",
            "Train set: Average loss: 0.0802, Accuracy: 57130/60000 (95.2%)\n",
            "\n",
            "\n",
            "Test set: Average loss: 0.1907, Accuracy: 9447/10000 (94.470%)\n",
            "\n",
            "Train Epoch: 6 [0/60000 (0%)]\tLoss: 0.294402\n",
            "Train Epoch: 6 [6400/60000 (11%)]\tLoss: 0.100012\n",
            "Train Epoch: 6 [12800/60000 (21%)]\tLoss: 0.025579\n",
            "Train Epoch: 6 [19200/60000 (32%)]\tLoss: 0.175655\n",
            "Train Epoch: 6 [25600/60000 (43%)]\tLoss: 0.382442\n",
            "Train Epoch: 6 [32000/60000 (53%)]\tLoss: 0.142942\n",
            "Train Epoch: 6 [38400/60000 (64%)]\tLoss: 0.346148\n",
            "Train Epoch: 6 [44800/60000 (75%)]\tLoss: 0.154789\n",
            "Train Epoch: 6 [51200/60000 (85%)]\tLoss: 0.118739\n",
            "Train Epoch: 6 [57600/60000 (96%)]\tLoss: 0.043363\n",
            "\n",
            "Train set: Average loss: 0.1654, Accuracy: 57264/60000 (95.4%)\n",
            "\n",
            "\n",
            "Test set: Average loss: 0.1740, Accuracy: 9480/10000 (94.800%)\n",
            "\n",
            "Train Epoch: 7 [0/60000 (0%)]\tLoss: 0.187718\n",
            "Train Epoch: 7 [6400/60000 (11%)]\tLoss: 0.058554\n",
            "Train Epoch: 7 [12800/60000 (21%)]\tLoss: 0.177048\n",
            "Train Epoch: 7 [19200/60000 (32%)]\tLoss: 0.052166\n",
            "Train Epoch: 7 [25600/60000 (43%)]\tLoss: 0.130575\n",
            "Train Epoch: 7 [32000/60000 (53%)]\tLoss: 0.106202\n",
            "Train Epoch: 7 [38400/60000 (64%)]\tLoss: 0.092889\n",
            "Train Epoch: 7 [44800/60000 (75%)]\tLoss: 0.102910\n",
            "Train Epoch: 7 [51200/60000 (85%)]\tLoss: 0.045599\n",
            "Train Epoch: 7 [57600/60000 (96%)]\tLoss: 0.301372\n",
            "\n",
            "Train set: Average loss: 0.3170, Accuracy: 57315/60000 (95.5%)\n",
            "\n",
            "\n",
            "Test set: Average loss: 0.1834, Accuracy: 9474/10000 (94.740%)\n",
            "\n",
            "Train Epoch: 8 [0/60000 (0%)]\tLoss: 0.194895\n",
            "Train Epoch: 8 [6400/60000 (11%)]\tLoss: 0.046270\n",
            "Train Epoch: 8 [12800/60000 (21%)]\tLoss: 0.089866\n",
            "Train Epoch: 8 [19200/60000 (32%)]\tLoss: 0.207410\n",
            "Train Epoch: 8 [25600/60000 (43%)]\tLoss: 0.084285\n",
            "Train Epoch: 8 [32000/60000 (53%)]\tLoss: 0.185919\n",
            "Train Epoch: 8 [38400/60000 (64%)]\tLoss: 0.187741\n",
            "Train Epoch: 8 [44800/60000 (75%)]\tLoss: 0.227145\n",
            "Train Epoch: 8 [51200/60000 (85%)]\tLoss: 0.029857\n",
            "Train Epoch: 8 [57600/60000 (96%)]\tLoss: 0.176388\n",
            "\n",
            "Train set: Average loss: 0.0822, Accuracy: 57412/60000 (95.7%)\n",
            "\n",
            "\n",
            "Test set: Average loss: 0.1680, Accuracy: 9515/10000 (95.150%)\n",
            "\n",
            "Train Epoch: 9 [0/60000 (0%)]\tLoss: 0.167456\n",
            "Train Epoch: 9 [6400/60000 (11%)]\tLoss: 0.186205\n",
            "Train Epoch: 9 [12800/60000 (21%)]\tLoss: 0.022938\n",
            "Train Epoch: 9 [19200/60000 (32%)]\tLoss: 0.087416\n",
            "Train Epoch: 9 [25600/60000 (43%)]\tLoss: 0.161131\n",
            "Train Epoch: 9 [32000/60000 (53%)]\tLoss: 0.226196\n",
            "Train Epoch: 9 [38400/60000 (64%)]\tLoss: 0.127987\n",
            "Train Epoch: 9 [44800/60000 (75%)]\tLoss: 0.109540\n",
            "Train Epoch: 9 [51200/60000 (85%)]\tLoss: 0.165348\n",
            "Train Epoch: 9 [57600/60000 (96%)]\tLoss: 0.093846\n",
            "\n",
            "Train set: Average loss: 0.0197, Accuracy: 57508/60000 (95.8%)\n",
            "\n",
            "\n",
            "Test set: Average loss: 0.1755, Accuracy: 9465/10000 (94.650%)\n",
            "\n",
            "Train Epoch: 10 [0/60000 (0%)]\tLoss: 0.104708\n",
            "Train Epoch: 10 [6400/60000 (11%)]\tLoss: 0.048414\n",
            "Train Epoch: 10 [12800/60000 (21%)]\tLoss: 0.046636\n",
            "Train Epoch: 10 [19200/60000 (32%)]\tLoss: 0.115201\n",
            "Train Epoch: 10 [25600/60000 (43%)]\tLoss: 0.384288\n",
            "Train Epoch: 10 [32000/60000 (53%)]\tLoss: 0.168952\n",
            "Train Epoch: 10 [38400/60000 (64%)]\tLoss: 0.148816\n",
            "Train Epoch: 10 [44800/60000 (75%)]\tLoss: 0.118317\n",
            "Train Epoch: 10 [51200/60000 (85%)]\tLoss: 0.094993\n",
            "Train Epoch: 10 [57600/60000 (96%)]\tLoss: 0.213566\n",
            "\n",
            "Train set: Average loss: 0.0574, Accuracy: 57560/60000 (95.9%)\n",
            "\n",
            "\n",
            "Test set: Average loss: 0.1696, Accuracy: 9499/10000 (94.990%)\n",
            "\n",
            "Training is finished.\n"
          ]
        }
      ],
      "source": [
        "epochs = 10\n",
        "for epoch in range(1, epochs + 1):\n",
        "    train(mlp, dl_train, optimizer, epoch, log_interval=100)\n",
        "    test(mlp, dl_test)\n",
        "\n",
        "print ('Training is finished.')"
      ]
    },
    {
      "cell_type": "markdown",
      "metadata": {
        "id": "tZmdicVq_HK2"
      },
      "source": [
        "After training, you should see test accuracies of > **94%** - By they way, here we report test accuracy, the last exercises reported test error. Accuracy is simply (1 - error). Both metrics are commonly reported, there is no clear preference in literature for one or the other."
      ]
    },
    {
      "cell_type": "markdown",
      "metadata": {
        "id": "cyGE3o2s_HK2"
      },
      "source": [
        "Now, can you do some parameter tuning to boost the test accuracy to > **97%**?"
      ]
    },
    {
      "cell_type": "code",
      "execution_count": 28,
      "metadata": {
        "colab": {
          "base_uri": "https://localhost:8080/"
        },
        "id": "t0skVH5h_HK3",
        "outputId": "c3c358a3-6fe1-4d82-dcfa-637cea9b0e37"
      },
      "outputs": [
        {
          "output_type": "stream",
          "name": "stdout",
          "text": [
            "0: Appended hidden\n",
            "1: Appended last layer\n",
            "Train Epoch: 1 [0/60000 (0%)]\tLoss: 2.279509\n",
            "Train Epoch: 1 [6400/60000 (11%)]\tLoss: 0.431834\n",
            "Train Epoch: 1 [12800/60000 (21%)]\tLoss: 0.501548\n",
            "Train Epoch: 1 [19200/60000 (32%)]\tLoss: 0.260172\n",
            "Train Epoch: 1 [25600/60000 (43%)]\tLoss: 0.381014\n",
            "Train Epoch: 1 [32000/60000 (53%)]\tLoss: 0.284890\n",
            "Train Epoch: 1 [38400/60000 (64%)]\tLoss: 0.162486\n",
            "Train Epoch: 1 [44800/60000 (75%)]\tLoss: 0.061120\n",
            "Train Epoch: 1 [51200/60000 (85%)]\tLoss: 0.296619\n",
            "Train Epoch: 1 [57600/60000 (96%)]\tLoss: 0.366679\n",
            "\n",
            "Train set: Average loss: 0.3417, Accuracy: 53375/60000 (89.0%)\n",
            "\n",
            "\n",
            "Test set: Average loss: 0.1995, Accuracy: 9400/10000 (94.000%)\n",
            "\n",
            "Train Epoch: 2 [0/60000 (0%)]\tLoss: 0.247929\n",
            "Train Epoch: 2 [6400/60000 (11%)]\tLoss: 0.150520\n",
            "Train Epoch: 2 [12800/60000 (21%)]\tLoss: 0.180634\n",
            "Train Epoch: 2 [19200/60000 (32%)]\tLoss: 0.130879\n",
            "Train Epoch: 2 [25600/60000 (43%)]\tLoss: 0.075087\n",
            "Train Epoch: 2 [32000/60000 (53%)]\tLoss: 0.081370\n",
            "Train Epoch: 2 [38400/60000 (64%)]\tLoss: 0.285168\n",
            "Train Epoch: 2 [44800/60000 (75%)]\tLoss: 0.217350\n",
            "Train Epoch: 2 [51200/60000 (85%)]\tLoss: 0.198245\n",
            "Train Epoch: 2 [57600/60000 (96%)]\tLoss: 0.058501\n",
            "\n",
            "Train set: Average loss: 0.0888, Accuracy: 56939/60000 (94.9%)\n",
            "\n",
            "\n",
            "Test set: Average loss: 0.1492, Accuracy: 9527/10000 (95.270%)\n",
            "\n",
            "Train Epoch: 3 [0/60000 (0%)]\tLoss: 0.141932\n",
            "Train Epoch: 3 [6400/60000 (11%)]\tLoss: 0.135427\n",
            "Train Epoch: 3 [12800/60000 (21%)]\tLoss: 0.361183\n",
            "Train Epoch: 3 [19200/60000 (32%)]\tLoss: 0.126937\n",
            "Train Epoch: 3 [25600/60000 (43%)]\tLoss: 0.121010\n",
            "Train Epoch: 3 [32000/60000 (53%)]\tLoss: 0.202092\n",
            "Train Epoch: 3 [38400/60000 (64%)]\tLoss: 0.258797\n",
            "Train Epoch: 3 [44800/60000 (75%)]\tLoss: 0.094633\n",
            "Train Epoch: 3 [51200/60000 (85%)]\tLoss: 0.108181\n",
            "Train Epoch: 3 [57600/60000 (96%)]\tLoss: 0.176758\n",
            "\n",
            "Train set: Average loss: 0.0550, Accuracy: 57698/60000 (96.2%)\n",
            "\n",
            "\n",
            "Test set: Average loss: 0.1167, Accuracy: 9647/10000 (96.470%)\n",
            "\n",
            "Train Epoch: 4 [0/60000 (0%)]\tLoss: 0.134519\n",
            "Train Epoch: 4 [6400/60000 (11%)]\tLoss: 0.070421\n",
            "Train Epoch: 4 [12800/60000 (21%)]\tLoss: 0.101042\n",
            "Train Epoch: 4 [19200/60000 (32%)]\tLoss: 0.114926\n",
            "Train Epoch: 4 [25600/60000 (43%)]\tLoss: 0.062105\n",
            "Train Epoch: 4 [32000/60000 (53%)]\tLoss: 0.051192\n",
            "Train Epoch: 4 [38400/60000 (64%)]\tLoss: 0.152202\n",
            "Train Epoch: 4 [44800/60000 (75%)]\tLoss: 0.138341\n",
            "Train Epoch: 4 [51200/60000 (85%)]\tLoss: 0.101015\n",
            "Train Epoch: 4 [57600/60000 (96%)]\tLoss: 0.058611\n",
            "\n",
            "Train set: Average loss: 0.0184, Accuracy: 58143/60000 (96.9%)\n",
            "\n",
            "\n",
            "Test set: Average loss: 0.1098, Accuracy: 9652/10000 (96.520%)\n",
            "\n",
            "Train Epoch: 5 [0/60000 (0%)]\tLoss: 0.064330\n",
            "Train Epoch: 5 [6400/60000 (11%)]\tLoss: 0.086339\n",
            "Train Epoch: 5 [12800/60000 (21%)]\tLoss: 0.168041\n",
            "Train Epoch: 5 [19200/60000 (32%)]\tLoss: 0.055714\n",
            "Train Epoch: 5 [25600/60000 (43%)]\tLoss: 0.140902\n",
            "Train Epoch: 5 [32000/60000 (53%)]\tLoss: 0.113164\n",
            "Train Epoch: 5 [38400/60000 (64%)]\tLoss: 0.088529\n",
            "Train Epoch: 5 [44800/60000 (75%)]\tLoss: 0.040458\n",
            "Train Epoch: 5 [51200/60000 (85%)]\tLoss: 0.064883\n",
            "Train Epoch: 5 [57600/60000 (96%)]\tLoss: 0.049602\n",
            "\n",
            "Train set: Average loss: 0.0886, Accuracy: 58480/60000 (97.5%)\n",
            "\n",
            "\n",
            "Test set: Average loss: 0.0972, Accuracy: 9712/10000 (97.120%)\n",
            "\n",
            "Train Epoch: 6 [0/60000 (0%)]\tLoss: 0.036787\n",
            "Train Epoch: 6 [6400/60000 (11%)]\tLoss: 0.053560\n",
            "Train Epoch: 6 [12800/60000 (21%)]\tLoss: 0.034394\n",
            "Train Epoch: 6 [19200/60000 (32%)]\tLoss: 0.014088\n",
            "Train Epoch: 6 [25600/60000 (43%)]\tLoss: 0.025638\n",
            "Train Epoch: 6 [32000/60000 (53%)]\tLoss: 0.148123\n",
            "Train Epoch: 6 [38400/60000 (64%)]\tLoss: 0.065496\n",
            "Train Epoch: 6 [44800/60000 (75%)]\tLoss: 0.106919\n",
            "Train Epoch: 6 [51200/60000 (85%)]\tLoss: 0.071227\n",
            "Train Epoch: 6 [57600/60000 (96%)]\tLoss: 0.070200\n",
            "\n",
            "Train set: Average loss: 0.3045, Accuracy: 58676/60000 (97.8%)\n",
            "\n",
            "\n",
            "Test set: Average loss: 0.0957, Accuracy: 9700/10000 (97.000%)\n",
            "\n",
            "Train Epoch: 7 [0/60000 (0%)]\tLoss: 0.042857\n",
            "Train Epoch: 7 [6400/60000 (11%)]\tLoss: 0.046641\n",
            "Train Epoch: 7 [12800/60000 (21%)]\tLoss: 0.031617\n",
            "Train Epoch: 7 [19200/60000 (32%)]\tLoss: 0.020591\n",
            "Train Epoch: 7 [25600/60000 (43%)]\tLoss: 0.032439\n",
            "Train Epoch: 7 [32000/60000 (53%)]\tLoss: 0.055542\n",
            "Train Epoch: 7 [38400/60000 (64%)]\tLoss: 0.050125\n",
            "Train Epoch: 7 [44800/60000 (75%)]\tLoss: 0.041900\n",
            "Train Epoch: 7 [51200/60000 (85%)]\tLoss: 0.045383\n",
            "Train Epoch: 7 [57600/60000 (96%)]\tLoss: 0.028773\n",
            "\n",
            "Train set: Average loss: 0.0207, Accuracy: 58872/60000 (98.1%)\n",
            "\n",
            "\n",
            "Test set: Average loss: 0.0900, Accuracy: 9716/10000 (97.160%)\n",
            "\n",
            "Train Epoch: 8 [0/60000 (0%)]\tLoss: 0.013586\n",
            "Train Epoch: 8 [6400/60000 (11%)]\tLoss: 0.103356\n",
            "Train Epoch: 8 [12800/60000 (21%)]\tLoss: 0.052623\n",
            "Train Epoch: 8 [19200/60000 (32%)]\tLoss: 0.022689\n",
            "Train Epoch: 8 [25600/60000 (43%)]\tLoss: 0.111967\n",
            "Train Epoch: 8 [32000/60000 (53%)]\tLoss: 0.010830\n",
            "Train Epoch: 8 [38400/60000 (64%)]\tLoss: 0.063683\n",
            "Train Epoch: 8 [44800/60000 (75%)]\tLoss: 0.046129\n",
            "Train Epoch: 8 [51200/60000 (85%)]\tLoss: 0.054308\n",
            "Train Epoch: 8 [57600/60000 (96%)]\tLoss: 0.003282\n",
            "\n",
            "Train set: Average loss: 0.0587, Accuracy: 59023/60000 (98.4%)\n",
            "\n",
            "\n",
            "Test set: Average loss: 0.0972, Accuracy: 9704/10000 (97.040%)\n",
            "\n",
            "Train Epoch: 9 [0/60000 (0%)]\tLoss: 0.059711\n",
            "Train Epoch: 9 [6400/60000 (11%)]\tLoss: 0.122349\n",
            "Train Epoch: 9 [12800/60000 (21%)]\tLoss: 0.071678\n",
            "Train Epoch: 9 [19200/60000 (32%)]\tLoss: 0.029398\n",
            "Train Epoch: 9 [25600/60000 (43%)]\tLoss: 0.065691\n",
            "Train Epoch: 9 [32000/60000 (53%)]\tLoss: 0.066229\n",
            "Train Epoch: 9 [38400/60000 (64%)]\tLoss: 0.118399\n",
            "Train Epoch: 9 [44800/60000 (75%)]\tLoss: 0.058989\n",
            "Train Epoch: 9 [51200/60000 (85%)]\tLoss: 0.044082\n",
            "Train Epoch: 9 [57600/60000 (96%)]\tLoss: 0.007572\n",
            "\n",
            "Train set: Average loss: 0.0040, Accuracy: 59147/60000 (98.6%)\n",
            "\n",
            "\n",
            "Test set: Average loss: 0.0909, Accuracy: 9709/10000 (97.090%)\n",
            "\n",
            "Train Epoch: 10 [0/60000 (0%)]\tLoss: 0.014814\n",
            "Train Epoch: 10 [6400/60000 (11%)]\tLoss: 0.074992\n",
            "Train Epoch: 10 [12800/60000 (21%)]\tLoss: 0.028486\n",
            "Train Epoch: 10 [19200/60000 (32%)]\tLoss: 0.089670\n",
            "Train Epoch: 10 [25600/60000 (43%)]\tLoss: 0.019657\n",
            "Train Epoch: 10 [32000/60000 (53%)]\tLoss: 0.047362\n",
            "Train Epoch: 10 [38400/60000 (64%)]\tLoss: 0.031757\n",
            "Train Epoch: 10 [44800/60000 (75%)]\tLoss: 0.060555\n",
            "Train Epoch: 10 [51200/60000 (85%)]\tLoss: 0.116436\n",
            "Train Epoch: 10 [57600/60000 (96%)]\tLoss: 0.005707\n",
            "\n",
            "Train set: Average loss: 0.0233, Accuracy: 59231/60000 (98.7%)\n",
            "\n",
            "\n",
            "Test set: Average loss: 0.0907, Accuracy: 9730/10000 (97.300%)\n",
            "\n",
            "Train Epoch: 11 [0/60000 (0%)]\tLoss: 0.018632\n",
            "Train Epoch: 11 [6400/60000 (11%)]\tLoss: 0.029935\n",
            "Train Epoch: 11 [12800/60000 (21%)]\tLoss: 0.005697\n",
            "Train Epoch: 11 [19200/60000 (32%)]\tLoss: 0.026620\n",
            "Train Epoch: 11 [25600/60000 (43%)]\tLoss: 0.021969\n",
            "Train Epoch: 11 [32000/60000 (53%)]\tLoss: 0.003614\n",
            "Train Epoch: 11 [38400/60000 (64%)]\tLoss: 0.143361\n",
            "Train Epoch: 11 [44800/60000 (75%)]\tLoss: 0.019539\n",
            "Train Epoch: 11 [51200/60000 (85%)]\tLoss: 0.019496\n",
            "Train Epoch: 11 [57600/60000 (96%)]\tLoss: 0.040395\n",
            "\n",
            "Train set: Average loss: 0.0152, Accuracy: 59330/60000 (98.9%)\n",
            "\n",
            "\n",
            "Test set: Average loss: 0.0949, Accuracy: 9722/10000 (97.220%)\n",
            "\n",
            "Train Epoch: 12 [0/60000 (0%)]\tLoss: 0.013891\n",
            "Train Epoch: 12 [6400/60000 (11%)]\tLoss: 0.017244\n",
            "Train Epoch: 12 [12800/60000 (21%)]\tLoss: 0.022322\n",
            "Train Epoch: 12 [19200/60000 (32%)]\tLoss: 0.008420\n",
            "Train Epoch: 12 [25600/60000 (43%)]\tLoss: 0.094564\n",
            "Train Epoch: 12 [32000/60000 (53%)]\tLoss: 0.020765\n",
            "Train Epoch: 12 [38400/60000 (64%)]\tLoss: 0.008271\n",
            "Train Epoch: 12 [44800/60000 (75%)]\tLoss: 0.072009\n",
            "Train Epoch: 12 [51200/60000 (85%)]\tLoss: 0.047842\n",
            "Train Epoch: 12 [57600/60000 (96%)]\tLoss: 0.034302\n",
            "\n",
            "Train set: Average loss: 0.0244, Accuracy: 59430/60000 (99.0%)\n",
            "\n",
            "\n",
            "Test set: Average loss: 0.0952, Accuracy: 9719/10000 (97.190%)\n",
            "\n",
            "Train Epoch: 13 [0/60000 (0%)]\tLoss: 0.115214\n",
            "Train Epoch: 13 [6400/60000 (11%)]\tLoss: 0.006994\n",
            "Train Epoch: 13 [12800/60000 (21%)]\tLoss: 0.007343\n",
            "Train Epoch: 13 [19200/60000 (32%)]\tLoss: 0.005871\n",
            "Train Epoch: 13 [25600/60000 (43%)]\tLoss: 0.036143\n",
            "Train Epoch: 13 [32000/60000 (53%)]\tLoss: 0.076983\n",
            "Train Epoch: 13 [38400/60000 (64%)]\tLoss: 0.067518\n",
            "Train Epoch: 13 [44800/60000 (75%)]\tLoss: 0.013043\n",
            "Train Epoch: 13 [51200/60000 (85%)]\tLoss: 0.021312\n",
            "Train Epoch: 13 [57600/60000 (96%)]\tLoss: 0.003378\n",
            "\n",
            "Train set: Average loss: 0.0009, Accuracy: 59471/60000 (99.1%)\n",
            "\n",
            "\n",
            "Test set: Average loss: 0.0916, Accuracy: 9747/10000 (97.470%)\n",
            "\n",
            "Train Epoch: 14 [0/60000 (0%)]\tLoss: 0.004959\n",
            "Train Epoch: 14 [6400/60000 (11%)]\tLoss: 0.014343\n",
            "Train Epoch: 14 [12800/60000 (21%)]\tLoss: 0.003528\n",
            "Train Epoch: 14 [19200/60000 (32%)]\tLoss: 0.020069\n",
            "Train Epoch: 14 [25600/60000 (43%)]\tLoss: 0.011409\n",
            "Train Epoch: 14 [32000/60000 (53%)]\tLoss: 0.035863\n",
            "Train Epoch: 14 [38400/60000 (64%)]\tLoss: 0.021117\n",
            "Train Epoch: 14 [44800/60000 (75%)]\tLoss: 0.005079\n",
            "Train Epoch: 14 [51200/60000 (85%)]\tLoss: 0.049489\n",
            "Train Epoch: 14 [57600/60000 (96%)]\tLoss: 0.007104\n",
            "\n",
            "Train set: Average loss: 0.0125, Accuracy: 59562/60000 (99.3%)\n",
            "\n",
            "\n",
            "Test set: Average loss: 0.0931, Accuracy: 9752/10000 (97.520%)\n",
            "\n",
            "Train Epoch: 15 [0/60000 (0%)]\tLoss: 0.002734\n",
            "Train Epoch: 15 [6400/60000 (11%)]\tLoss: 0.007606\n",
            "Train Epoch: 15 [12800/60000 (21%)]\tLoss: 0.005781\n",
            "Train Epoch: 15 [19200/60000 (32%)]\tLoss: 0.001259\n",
            "Train Epoch: 15 [25600/60000 (43%)]\tLoss: 0.017580\n",
            "Train Epoch: 15 [32000/60000 (53%)]\tLoss: 0.019352\n",
            "Train Epoch: 15 [38400/60000 (64%)]\tLoss: 0.011877\n",
            "Train Epoch: 15 [44800/60000 (75%)]\tLoss: 0.011792\n",
            "Train Epoch: 15 [51200/60000 (85%)]\tLoss: 0.008487\n",
            "Train Epoch: 15 [57600/60000 (96%)]\tLoss: 0.004290\n",
            "\n",
            "Train set: Average loss: 0.0044, Accuracy: 59608/60000 (99.3%)\n",
            "\n",
            "\n",
            "Test set: Average loss: 0.1035, Accuracy: 9723/10000 (97.230%)\n",
            "\n",
            "Training is finished.\n"
          ]
        }
      ],
      "source": [
        "#########################################################################\n",
        "#TODO: modify the parameters below to see which setting that you can get to 97%\n",
        "#########################################################################\n",
        "nLayer = 3\n",
        "nHidden = 64\n",
        "act_fn = nn.ReLU()\n",
        "device = torch.device('cuda' if torch.cuda.is_available() else 'cpu')\n",
        "\n",
        "# reinitialize the mlp, so we can play with parameters right here\n",
        "mlp = MLP(nInput, nOutput, nLayer, nHidden, act_fn)\n",
        "optimizer = optim.Adam(mlp.parameters(), lr=0.0005)\n",
        "\n",
        "epochs = 15\n",
        "for epoch in range(1, epochs + 1):\n",
        "    train(mlp, dl_train, optimizer, epoch, log_interval=100, device=device)\n",
        "    test(mlp, dl_test, device=device)\n",
        "\n",
        "print ('Training is finished.')"
      ]
    },
    {
      "cell_type": "markdown",
      "source": [
        "- Made network deeper and wider to increase representational power, and lowered learning rate to stabilise learning"
      ],
      "metadata": {
        "id": "fD0st1dPFYwu"
      }
    },
    {
      "cell_type": "markdown",
      "metadata": {
        "id": "M9vzpCe1_HK3"
      },
      "source": [
        "Before you move on to the next exercise, you can further play with the other parameters (learning rate, epochs, a different optimizer, etc.) to get a feeling what can improve or hamper performance."
      ]
    },
    {
      "cell_type": "markdown",
      "metadata": {
        "id": "MC2zFKak_HK3"
      },
      "source": [
        "## CNN\n",
        "Alright, we matched our prior performance. Let's surpass it! You will soon see the power of CNN by building a small one yourself. The structure should be as follows\n",
        "\n",
        "| CNN Architecture                             \t|\n",
        "|----------------------------------------------\t|\n",
        "| Conv: $C_{in}=1, C_{out}=32, K=3, S=1, P=0$  \t|\n",
        "| ReLU                                         \t|\n",
        "| Conv: $C_{in}=32, C_{out}=64, K=3, S=1, P=0$ \t|\n",
        "| ReLU                                         \t|\n",
        "| MaxPool2d: $K=2, S=2, P=0$                   \t|\n",
        "| Dropout: $p=0.25$                            \t|\n",
        "| Linear: $C_{in}=9216, C_{out}=128$           \t|\n",
        "| ReLU                                         \t|\n",
        "| Dropout: $p=0.5$                             \t|\n",
        "| Linear: $C_{in}=128, C_{out}=10$             \t|\n",
        "\n",
        "The layers you will need are:\n",
        "\n",
        "`nn.Conv2d,  nn.Linear,  nn.Dropout, nn.MaxPool2d, nn.Flatten`\n",
        "\n",
        "For layers without parameters you can alternatively use function in the forward pass:  \n",
        "\n",
        "`F.max_pool2d, torch.flatten`"
      ]
    },
    {
      "cell_type": "code",
      "execution_count": 52,
      "metadata": {
        "id": "dHrzkV2C_HK3"
      },
      "outputs": [],
      "source": [
        "#########################################################################\n",
        "# TODO: Implement the __init__ and forward method of the CNN class.\n",
        "# Hint: do not forget to flatten the appropriate dimension after the convolutional blocks.\n",
        "# A linear layers expect input of the size (B, H) with batch size B and feature size H\n",
        "#########################################################################\n",
        "\n",
        "class CNN(nn.Module):\n",
        "    def __init__(self):\n",
        "        super(CNN, self).__init__()\n",
        "        self.model = nn.Sequential(\n",
        "            nn.Conv2d(in_channels=1, out_channels=32, kernel_size=(3,3), stride=(1,1), padding=(0,0)),\n",
        "            nn.ReLU(),\n",
        "            nn.Conv2d(in_channels=32, out_channels=64, kernel_size=(3,3), stride=(1,1), padding=(0,0)),\n",
        "            nn.ReLU(),\n",
        "            nn.MaxPool2d(kernel_size=(2,2), stride=(2,2), padding=(0,0)),\n",
        "            nn.Flatten(),\n",
        "            nn.Dropout(p=0.25),  # Dropout after flattening\n",
        "            nn.Linear(in_features=9216, out_features=128),\n",
        "            nn.ReLU(),\n",
        "            nn.Dropout(p=0.5),\n",
        "            nn.Linear(in_features=128, out_features=10)\n",
        "        )\n",
        "\n",
        "    def forward(self, x):\n",
        "        # print(f\"x.shape: {x.shape}\")\n",
        "        return self.model(x)\n"
      ]
    },
    {
      "cell_type": "code",
      "execution_count": 53,
      "metadata": {
        "colab": {
          "base_uri": "https://localhost:8080/"
        },
        "id": "rGKUx7xB_HK4",
        "outputId": "f32fd97d-a5b1-4607-99ae-7233f1b0f8cd"
      },
      "outputs": [
        {
          "output_type": "execute_result",
          "data": {
            "text/plain": [
              "torch.Size([1, 10])"
            ]
          },
          "metadata": {},
          "execution_count": 53
        }
      ],
      "source": [
        "# Let's test if the forward pass works\n",
        "# this should print torch.Size([1, 10])\n",
        "t = torch.randn(1,1,28,28)\n",
        "cnn = CNN()\n",
        "cnn(t).shape"
      ]
    },
    {
      "cell_type": "code",
      "source": [
        "cnn"
      ],
      "metadata": {
        "colab": {
          "base_uri": "https://localhost:8080/"
        },
        "id": "xwaCwyAFMkWX",
        "outputId": "d4914674-5c8a-47c0-a414-e8552ea0a5be"
      },
      "execution_count": 54,
      "outputs": [
        {
          "output_type": "execute_result",
          "data": {
            "text/plain": [
              "CNN(\n",
              "  (model): Sequential(\n",
              "    (0): Conv2d(1, 32, kernel_size=(3, 3), stride=(1, 1))\n",
              "    (1): ReLU()\n",
              "    (2): Conv2d(32, 64, kernel_size=(3, 3), stride=(1, 1))\n",
              "    (3): ReLU()\n",
              "    (4): MaxPool2d(kernel_size=(2, 2), stride=(2, 2), padding=(0, 0), dilation=1, ceil_mode=False)\n",
              "    (5): Flatten(start_dim=1, end_dim=-1)\n",
              "    (6): Dropout(p=0.25, inplace=False)\n",
              "    (7): Linear(in_features=9216, out_features=128, bias=True)\n",
              "    (8): ReLU()\n",
              "    (9): Dropout(p=0.5, inplace=False)\n",
              "    (10): Linear(in_features=128, out_features=10, bias=True)\n",
              "  )\n",
              ")"
            ]
          },
          "metadata": {},
          "execution_count": 54
        }
      ]
    },
    {
      "cell_type": "markdown",
      "metadata": {
        "id": "trAoxPgc_HK4"
      },
      "source": [
        "Alright, let's train!"
      ]
    },
    {
      "cell_type": "code",
      "execution_count": 55,
      "metadata": {
        "id": "qojlvOJ4_HK4"
      },
      "outputs": [],
      "source": [
        "optimizer = optim.Adam(cnn.parameters())"
      ]
    },
    {
      "cell_type": "code",
      "execution_count": 56,
      "metadata": {
        "scrolled": true,
        "colab": {
          "base_uri": "https://localhost:8080/"
        },
        "id": "27Lb0Shv_HK5",
        "outputId": "ed247459-4b8c-4097-a86b-31d0e00d3202"
      },
      "outputs": [
        {
          "output_type": "stream",
          "name": "stdout",
          "text": [
            "Train Epoch: 1 [0/60000 (0%)]\tLoss: 2.333279\n",
            "Train Epoch: 1 [6400/60000 (11%)]\tLoss: 0.436489\n",
            "Train Epoch: 1 [12800/60000 (21%)]\tLoss: 0.133388\n",
            "Train Epoch: 1 [19200/60000 (32%)]\tLoss: 0.115773\n",
            "Train Epoch: 1 [25600/60000 (43%)]\tLoss: 0.165688\n",
            "Train Epoch: 1 [32000/60000 (53%)]\tLoss: 0.189912\n",
            "Train Epoch: 1 [38400/60000 (64%)]\tLoss: 0.199769\n",
            "Train Epoch: 1 [44800/60000 (75%)]\tLoss: 0.059742\n",
            "Train Epoch: 1 [51200/60000 (85%)]\tLoss: 0.095372\n",
            "Train Epoch: 1 [57600/60000 (96%)]\tLoss: 0.079811\n",
            "\n",
            "Train set: Average loss: 0.0333, Accuracy: 56357/60000 (93.9%)\n",
            "\n",
            "\n",
            "Test set: Average loss: 0.0475, Accuracy: 9837/10000 (98.370%)\n",
            "\n",
            "Train Epoch: 2 [0/60000 (0%)]\tLoss: 0.054903\n",
            "Train Epoch: 2 [6400/60000 (11%)]\tLoss: 0.054563\n",
            "Train Epoch: 2 [12800/60000 (21%)]\tLoss: 0.139859\n",
            "Train Epoch: 2 [19200/60000 (32%)]\tLoss: 0.029333\n",
            "Train Epoch: 2 [25600/60000 (43%)]\tLoss: 0.022441\n",
            "Train Epoch: 2 [32000/60000 (53%)]\tLoss: 0.073214\n",
            "Train Epoch: 2 [38400/60000 (64%)]\tLoss: 0.026496\n",
            "Train Epoch: 2 [44800/60000 (75%)]\tLoss: 0.167773\n",
            "Train Epoch: 2 [51200/60000 (85%)]\tLoss: 0.142578\n",
            "Train Epoch: 2 [57600/60000 (96%)]\tLoss: 0.125159\n",
            "\n",
            "Train set: Average loss: 0.2602, Accuracy: 58425/60000 (97.4%)\n",
            "\n",
            "\n",
            "Test set: Average loss: 0.0402, Accuracy: 9868/10000 (98.680%)\n",
            "\n",
            "Train Epoch: 3 [0/60000 (0%)]\tLoss: 0.049732\n",
            "Train Epoch: 3 [6400/60000 (11%)]\tLoss: 0.143663\n",
            "Train Epoch: 3 [12800/60000 (21%)]\tLoss: 0.023654\n",
            "Train Epoch: 3 [19200/60000 (32%)]\tLoss: 0.019535\n",
            "Train Epoch: 3 [25600/60000 (43%)]\tLoss: 0.027258\n",
            "Train Epoch: 3 [32000/60000 (53%)]\tLoss: 0.027080\n",
            "Train Epoch: 3 [38400/60000 (64%)]\tLoss: 0.025758\n",
            "Train Epoch: 3 [44800/60000 (75%)]\tLoss: 0.096416\n",
            "Train Epoch: 3 [51200/60000 (85%)]\tLoss: 0.013278\n",
            "Train Epoch: 3 [57600/60000 (96%)]\tLoss: 0.037945\n",
            "\n",
            "Train set: Average loss: 0.0079, Accuracy: 58828/60000 (98.0%)\n",
            "\n",
            "\n",
            "Test set: Average loss: 0.0319, Accuracy: 9902/10000 (99.020%)\n",
            "\n",
            "Train Epoch: 4 [0/60000 (0%)]\tLoss: 0.031041\n",
            "Train Epoch: 4 [6400/60000 (11%)]\tLoss: 0.053597\n",
            "Train Epoch: 4 [12800/60000 (21%)]\tLoss: 0.192419\n",
            "Train Epoch: 4 [19200/60000 (32%)]\tLoss: 0.007639\n",
            "Train Epoch: 4 [25600/60000 (43%)]\tLoss: 0.210701\n",
            "Train Epoch: 4 [32000/60000 (53%)]\tLoss: 0.036232\n",
            "Train Epoch: 4 [38400/60000 (64%)]\tLoss: 0.059894\n",
            "Train Epoch: 4 [44800/60000 (75%)]\tLoss: 0.043570\n",
            "Train Epoch: 4 [51200/60000 (85%)]\tLoss: 0.008980\n",
            "Train Epoch: 4 [57600/60000 (96%)]\tLoss: 0.027518\n",
            "\n",
            "Train set: Average loss: 0.0054, Accuracy: 58962/60000 (98.3%)\n",
            "\n",
            "\n",
            "Test set: Average loss: 0.0365, Accuracy: 9889/10000 (98.890%)\n",
            "\n",
            "Train Epoch: 5 [0/60000 (0%)]\tLoss: 0.017895\n",
            "Train Epoch: 5 [6400/60000 (11%)]\tLoss: 0.017580\n",
            "Train Epoch: 5 [12800/60000 (21%)]\tLoss: 0.016567\n",
            "Train Epoch: 5 [19200/60000 (32%)]\tLoss: 0.021148\n",
            "Train Epoch: 5 [25600/60000 (43%)]\tLoss: 0.013810\n",
            "Train Epoch: 5 [32000/60000 (53%)]\tLoss: 0.064169\n",
            "Train Epoch: 5 [38400/60000 (64%)]\tLoss: 0.044386\n",
            "Train Epoch: 5 [44800/60000 (75%)]\tLoss: 0.026764\n",
            "Train Epoch: 5 [51200/60000 (85%)]\tLoss: 0.055242\n",
            "Train Epoch: 5 [57600/60000 (96%)]\tLoss: 0.017173\n",
            "\n",
            "Train set: Average loss: 0.0022, Accuracy: 59145/60000 (98.6%)\n",
            "\n",
            "\n",
            "Test set: Average loss: 0.0318, Accuracy: 9898/10000 (98.980%)\n",
            "\n"
          ]
        }
      ],
      "source": [
        "epochs = 5\n",
        "for epoch in range(1, epochs + 1):\n",
        "    train(cnn, dl_train, optimizer, epoch, log_interval=100, device=device)\n",
        "    test(cnn, dl_test, device=device)"
      ]
    },
    {
      "cell_type": "markdown",
      "metadata": {
        "id": "1n1T6crE_HK5"
      },
      "source": [
        "This will probably take a bit longer to train, as a convolutional network is not very efficient on a CPU. The current settings should get you around **99%** accuracy. Nice!\n",
        "Again, you should try different hyperparameters and see how far you can push the performance."
      ]
    },
    {
      "cell_type": "markdown",
      "metadata": {
        "id": "0UVGqkEw_HK5"
      },
      "source": [
        "### Inline Question\n",
        "\n",
        "If your model weight is randomly initalized, and no training is done as above. What accuracy do you think the model will get for a 10-class classification task in theory?\n",
        "\n",
        "**Your answer**:\n",
        "The model should output a random class from 0-9 (there will be a random largest logit in the output layer) $\\implies \\frac{1}{10}$ chance to randomly be correct, i.e. 10% accuracy.  \n"
      ]
    },
    {
      "cell_type": "markdown",
      "metadata": {
        "id": "NHktEAtz_HK6"
      },
      "source": [
        "## Training on CIFAR10\n",
        "\n",
        "Now we are going to move to something more challenging - CIFAR10. We can reuse most of the code above. Thankfully, CIFAR is also a popular dataset, so we can again make use of a PyTorch convience function."
      ]
    },
    {
      "cell_type": "code",
      "execution_count": 57,
      "metadata": {
        "colab": {
          "base_uri": "https://localhost:8080/"
        },
        "id": "Bvxo1WFy_HK6",
        "outputId": "10bd290a-c7fe-40e6-d469-7f90836ed3ba"
      },
      "outputs": [
        {
          "output_type": "stream",
          "name": "stdout",
          "text": [
            "Downloading https://www.cs.toronto.edu/~kriz/cifar-10-python.tar.gz to ./data/cifar-10-python.tar.gz\n"
          ]
        },
        {
          "output_type": "stream",
          "name": "stderr",
          "text": [
            "100%|██████████| 170498071/170498071 [00:01<00:00, 91924544.26it/s]\n"
          ]
        },
        {
          "output_type": "stream",
          "name": "stdout",
          "text": [
            "Extracting ./data/cifar-10-python.tar.gz to ./data\n"
          ]
        }
      ],
      "source": [
        "ds_train = datasets.CIFAR10(root='./data', train=True, download=True)"
      ]
    },
    {
      "cell_type": "markdown",
      "metadata": {
        "id": "vSD3NCvs_HK6"
      },
      "source": [
        "This dataset is not normalized yet, so we need to calculate the normalization constants."
      ]
    },
    {
      "cell_type": "code",
      "execution_count": 58,
      "metadata": {
        "id": "lhQYN6SG_HK6"
      },
      "outputs": [],
      "source": [
        "ims_train = torch.tensor(ds_train.data)\n",
        "ims_train = ims_train.float() / 255."
      ]
    },
    {
      "cell_type": "code",
      "execution_count": 60,
      "metadata": {
        "colab": {
          "base_uri": "https://localhost:8080/"
        },
        "id": "uQxi5bQh_HK7",
        "outputId": "d6c71596-94eb-420f-f72e-f5be5f7211b1"
      },
      "outputs": [
        {
          "output_type": "execute_result",
          "data": {
            "text/plain": [
              "(tensor([0.2470, 0.2435, 0.2616]), torch.Size([50000, 32, 32, 3]))"
            ]
          },
          "metadata": {},
          "execution_count": 60
        }
      ],
      "source": [
        "ims_train.std((0,1,2)), ims_train.shape"
      ]
    },
    {
      "cell_type": "code",
      "execution_count": 62,
      "metadata": {
        "colab": {
          "base_uri": "https://localhost:8080/"
        },
        "id": "P7kFoSwX_HK7",
        "outputId": "3425d583-dc2c-4d37-cd15-f34671226d06"
      },
      "outputs": [
        {
          "output_type": "execute_result",
          "data": {
            "text/plain": [
              "(tensor([0.4914, 0.4822, 0.4465]), tensor([0.2470, 0.2435, 0.2616]))"
            ]
          },
          "metadata": {},
          "execution_count": 62
        }
      ],
      "source": [
        "#########################################################################\n",
        "# TODO: calculate the mean and std of CIFAR\n",
        "# hint: We want the mean and std of the channel dimension, these should\n",
        "# be 3 dimensional\n",
        "#########################################################################\n",
        "mu = torch.mean(ims_train, dim=(0,1,2))\n",
        "std = ims_train.std((0,1,2))\n",
        "mu, std\n"
      ]
    },
    {
      "cell_type": "code",
      "execution_count": null,
      "metadata": {
        "id": "ItBijxe8_HK7"
      },
      "outputs": [],
      "source": [
        "torch.mean(ims_train, dim=(0,1,2))"
      ]
    },
    {
      "cell_type": "markdown",
      "metadata": {
        "id": "RvSsE-jE_HK7"
      },
      "source": [
        "For CIFAR we want to make use of data augmentation to improve generalization. You will find all data augmentations data are included in torchvision here:\n",
        "\n",
        "https://pytorch.org/docs/stable/torchvision/transforms.html"
      ]
    },
    {
      "cell_type": "code",
      "execution_count": 63,
      "metadata": {
        "colab": {
          "base_uri": "https://localhost:8080/"
        },
        "id": "_r2_XEB__HK8",
        "outputId": "9d3198d7-dce0-43de-d2a2-3140741bf98a"
      },
      "outputs": [
        {
          "output_type": "stream",
          "name": "stdout",
          "text": [
            "Files already downloaded and verified\n",
            "Files already downloaded and verified\n"
          ]
        },
        {
          "output_type": "stream",
          "name": "stderr",
          "text": [
            "/usr/local/lib/python3.10/dist-packages/torch/utils/data/dataloader.py:557: UserWarning: This DataLoader will create 4 worker processes in total. Our suggested max number of worker in current system is 2, which is smaller than what this DataLoader is going to create. Please be aware that excessive worker creation might get DataLoader running slow or even freeze, lower the worker number to avoid potential slowness/freeze if necessary.\n",
            "  warnings.warn(_create_warning_msg(\n"
          ]
        }
      ],
      "source": [
        "BATCH_SIZE = 128\n",
        "NUM_WORKERS = 4 # if you encounter some unexpected errors in data loading, try setting `NUM_WORKERS = 0`\n",
        "#########################################################################\n",
        "# TODO: Implement the proper transforms for the training and test dataloaders.\n",
        "# Then build train and test dataloaders with batch size 128 and 4 workers\n",
        "#\n",
        "# Train:\n",
        "# - Apply a random crop with size 32 on a padded version of the image with P=4\n",
        "# - Flip the image horizontally with a probability of 40 %\n",
        "# - Transform to a Tensor\n",
        "# - Normalize with the constants calculated above\n",
        "# Test:\n",
        "# - Transform to a Tensor\n",
        "# - Normalize with the constants calculated above\n",
        "#########################################################################\n",
        "transform_train = transforms.Compose([\n",
        "    transforms.RandomCrop(size=32, padding=4),\n",
        "    transforms.RandomHorizontalFlip(p=0.4),\n",
        "    transforms.ToTensor(),\n",
        "    transforms.Normalize(mean=mu, std=std)\n",
        "])\n",
        "transform_test = transforms.Compose([\n",
        "    transforms.ToTensor(),\n",
        "    transforms.Normalize(mean=mu, std=std)\n",
        "])\n",
        "\n",
        "ds_train = datasets.CIFAR10('./data', train=True, download=True, transform=transform_train)\n",
        "ds_test = datasets.CIFAR10('./data', train=False, download=True, transform=transform_test)\n",
        "\n",
        "dl_train = DataLoader(ds_train, batch_size=BATCH_SIZE, num_workers=NUM_WORKERS, shuffle=True)\n",
        "dl_test = DataLoader(ds_test, batch_size=BATCH_SIZE, num_workers=NUM_WORKERS)"
      ]
    },
    {
      "cell_type": "markdown",
      "metadata": {
        "id": "10F0lXYH_HK8"
      },
      "source": [
        "Setting up the  optimizer, this time we use SGD. The scheduler adapts the learning rate during traing (you can ignore it)"
      ]
    },
    {
      "cell_type": "code",
      "execution_count": 64,
      "metadata": {
        "id": "QBHdeFhb_HK8"
      },
      "outputs": [],
      "source": [
        "cnn = CNN()\n",
        "optimizer = optim.SGD(cnn.parameters(), lr=0.1, momentum=0.9, weight_decay=5e-4)\n",
        "scheduler = torch.optim.lr_scheduler.CosineAnnealingLR(optimizer, T_max=200)"
      ]
    },
    {
      "cell_type": "code",
      "execution_count": 65,
      "metadata": {
        "scrolled": true,
        "colab": {
          "base_uri": "https://localhost:8080/",
          "height": 390
        },
        "id": "SVCx5GwE_HK9",
        "outputId": "47d631a3-6a93-4ff7-9585-a9ad20ac131e"
      },
      "outputs": [
        {
          "output_type": "error",
          "ename": "RuntimeError",
          "evalue": "ignored",
          "traceback": [
            "\u001b[0;31m---------------------------------------------------------------------------\u001b[0m",
            "\u001b[0;31mRuntimeError\u001b[0m                              Traceback (most recent call last)",
            "\u001b[0;32m<ipython-input-65-ba9429f4ef5e>\u001b[0m in \u001b[0;36m<cell line: 2>\u001b[0;34m()\u001b[0m\n\u001b[1;32m      1\u001b[0m \u001b[0mepochs\u001b[0m \u001b[0;34m=\u001b[0m \u001b[0;36m5\u001b[0m\u001b[0;34m\u001b[0m\u001b[0;34m\u001b[0m\u001b[0m\n\u001b[1;32m      2\u001b[0m \u001b[0;32mfor\u001b[0m \u001b[0mepoch\u001b[0m \u001b[0;32min\u001b[0m \u001b[0mrange\u001b[0m\u001b[0;34m(\u001b[0m\u001b[0;36m1\u001b[0m\u001b[0;34m,\u001b[0m \u001b[0mepochs\u001b[0m \u001b[0;34m+\u001b[0m \u001b[0;36m1\u001b[0m\u001b[0;34m)\u001b[0m\u001b[0;34m:\u001b[0m\u001b[0;34m\u001b[0m\u001b[0;34m\u001b[0m\u001b[0m\n\u001b[0;32m----> 3\u001b[0;31m     \u001b[0mtrain\u001b[0m\u001b[0;34m(\u001b[0m\u001b[0mcnn\u001b[0m\u001b[0;34m,\u001b[0m \u001b[0mdl_train\u001b[0m\u001b[0;34m,\u001b[0m \u001b[0moptimizer\u001b[0m\u001b[0;34m,\u001b[0m \u001b[0mepoch\u001b[0m\u001b[0;34m,\u001b[0m \u001b[0mlog_interval\u001b[0m\u001b[0;34m=\u001b[0m\u001b[0;36m100\u001b[0m\u001b[0;34m)\u001b[0m\u001b[0;34m\u001b[0m\u001b[0;34m\u001b[0m\u001b[0m\n\u001b[0m\u001b[1;32m      4\u001b[0m     \u001b[0mtest\u001b[0m\u001b[0;34m(\u001b[0m\u001b[0mcnn\u001b[0m\u001b[0;34m,\u001b[0m \u001b[0mdl_test\u001b[0m\u001b[0;34m)\u001b[0m\u001b[0;34m\u001b[0m\u001b[0;34m\u001b[0m\u001b[0m\n\u001b[1;32m      5\u001b[0m     \u001b[0mscheduler\u001b[0m\u001b[0;34m.\u001b[0m\u001b[0mstep\u001b[0m\u001b[0;34m(\u001b[0m\u001b[0;34m)\u001b[0m\u001b[0;34m\u001b[0m\u001b[0;34m\u001b[0m\u001b[0m\n",
            "\u001b[0;32m<ipython-input-51-d8a9c3d835ed>\u001b[0m in \u001b[0;36mtrain\u001b[0;34m(model, dl_train, optimizer, epoch, log_interval, device)\u001b[0m\n\u001b[1;32m     17\u001b[0m         \u001b[0;31m##### implement this part #####\u001b[0m\u001b[0;34m\u001b[0m\u001b[0;34m\u001b[0m\u001b[0m\n\u001b[1;32m     18\u001b[0m         \u001b[0;31m# Forward\u001b[0m\u001b[0;34m\u001b[0m\u001b[0;34m\u001b[0m\u001b[0m\n\u001b[0;32m---> 19\u001b[0;31m         \u001b[0moutput\u001b[0m \u001b[0;34m=\u001b[0m \u001b[0mmodel\u001b[0m\u001b[0;34m(\u001b[0m\u001b[0mdata\u001b[0m\u001b[0;34m)\u001b[0m\u001b[0;34m\u001b[0m\u001b[0;34m\u001b[0m\u001b[0m\n\u001b[0m\u001b[1;32m     20\u001b[0m \u001b[0;34m\u001b[0m\u001b[0m\n\u001b[1;32m     21\u001b[0m         \u001b[0;31m# Backward pass & updates\u001b[0m\u001b[0;34m\u001b[0m\u001b[0;34m\u001b[0m\u001b[0m\n",
            "\u001b[0;32m/usr/local/lib/python3.10/dist-packages/torch/nn/modules/module.py\u001b[0m in \u001b[0;36m_wrapped_call_impl\u001b[0;34m(self, *args, **kwargs)\u001b[0m\n\u001b[1;32m   1516\u001b[0m             \u001b[0;32mreturn\u001b[0m \u001b[0mself\u001b[0m\u001b[0;34m.\u001b[0m\u001b[0m_compiled_call_impl\u001b[0m\u001b[0;34m(\u001b[0m\u001b[0;34m*\u001b[0m\u001b[0margs\u001b[0m\u001b[0;34m,\u001b[0m \u001b[0;34m**\u001b[0m\u001b[0mkwargs\u001b[0m\u001b[0;34m)\u001b[0m  \u001b[0;31m# type: ignore[misc]\u001b[0m\u001b[0;34m\u001b[0m\u001b[0;34m\u001b[0m\u001b[0m\n\u001b[1;32m   1517\u001b[0m         \u001b[0;32melse\u001b[0m\u001b[0;34m:\u001b[0m\u001b[0;34m\u001b[0m\u001b[0;34m\u001b[0m\u001b[0m\n\u001b[0;32m-> 1518\u001b[0;31m             \u001b[0;32mreturn\u001b[0m \u001b[0mself\u001b[0m\u001b[0;34m.\u001b[0m\u001b[0m_call_impl\u001b[0m\u001b[0;34m(\u001b[0m\u001b[0;34m*\u001b[0m\u001b[0margs\u001b[0m\u001b[0;34m,\u001b[0m \u001b[0;34m**\u001b[0m\u001b[0mkwargs\u001b[0m\u001b[0;34m)\u001b[0m\u001b[0;34m\u001b[0m\u001b[0;34m\u001b[0m\u001b[0m\n\u001b[0m\u001b[1;32m   1519\u001b[0m \u001b[0;34m\u001b[0m\u001b[0m\n\u001b[1;32m   1520\u001b[0m     \u001b[0;32mdef\u001b[0m \u001b[0m_call_impl\u001b[0m\u001b[0;34m(\u001b[0m\u001b[0mself\u001b[0m\u001b[0;34m,\u001b[0m \u001b[0;34m*\u001b[0m\u001b[0margs\u001b[0m\u001b[0;34m,\u001b[0m \u001b[0;34m**\u001b[0m\u001b[0mkwargs\u001b[0m\u001b[0;34m)\u001b[0m\u001b[0;34m:\u001b[0m\u001b[0;34m\u001b[0m\u001b[0;34m\u001b[0m\u001b[0m\n",
            "\u001b[0;32m/usr/local/lib/python3.10/dist-packages/torch/nn/modules/module.py\u001b[0m in \u001b[0;36m_call_impl\u001b[0;34m(self, *args, **kwargs)\u001b[0m\n\u001b[1;32m   1525\u001b[0m                 \u001b[0;32mor\u001b[0m \u001b[0m_global_backward_pre_hooks\u001b[0m \u001b[0;32mor\u001b[0m \u001b[0m_global_backward_hooks\u001b[0m\u001b[0;34m\u001b[0m\u001b[0;34m\u001b[0m\u001b[0m\n\u001b[1;32m   1526\u001b[0m                 or _global_forward_hooks or _global_forward_pre_hooks):\n\u001b[0;32m-> 1527\u001b[0;31m             \u001b[0;32mreturn\u001b[0m \u001b[0mforward_call\u001b[0m\u001b[0;34m(\u001b[0m\u001b[0;34m*\u001b[0m\u001b[0margs\u001b[0m\u001b[0;34m,\u001b[0m \u001b[0;34m**\u001b[0m\u001b[0mkwargs\u001b[0m\u001b[0;34m)\u001b[0m\u001b[0;34m\u001b[0m\u001b[0;34m\u001b[0m\u001b[0m\n\u001b[0m\u001b[1;32m   1528\u001b[0m \u001b[0;34m\u001b[0m\u001b[0m\n\u001b[1;32m   1529\u001b[0m         \u001b[0;32mtry\u001b[0m\u001b[0;34m:\u001b[0m\u001b[0;34m\u001b[0m\u001b[0;34m\u001b[0m\u001b[0m\n",
            "\u001b[0;32m<ipython-input-52-cba460159bac>\u001b[0m in \u001b[0;36mforward\u001b[0;34m(self, x)\u001b[0m\n\u001b[1;32m     24\u001b[0m     \u001b[0;32mdef\u001b[0m \u001b[0mforward\u001b[0m\u001b[0;34m(\u001b[0m\u001b[0mself\u001b[0m\u001b[0;34m,\u001b[0m \u001b[0mx\u001b[0m\u001b[0;34m)\u001b[0m\u001b[0;34m:\u001b[0m\u001b[0;34m\u001b[0m\u001b[0;34m\u001b[0m\u001b[0m\n\u001b[1;32m     25\u001b[0m         \u001b[0;31m# print(f\"x.shape: {x.shape}\")\u001b[0m\u001b[0;34m\u001b[0m\u001b[0;34m\u001b[0m\u001b[0m\n\u001b[0;32m---> 26\u001b[0;31m         \u001b[0;32mreturn\u001b[0m \u001b[0mself\u001b[0m\u001b[0;34m.\u001b[0m\u001b[0mmodel\u001b[0m\u001b[0;34m(\u001b[0m\u001b[0mx\u001b[0m\u001b[0;34m)\u001b[0m\u001b[0;34m\u001b[0m\u001b[0;34m\u001b[0m\u001b[0m\n\u001b[0m",
            "\u001b[0;32m/usr/local/lib/python3.10/dist-packages/torch/nn/modules/module.py\u001b[0m in \u001b[0;36m_wrapped_call_impl\u001b[0;34m(self, *args, **kwargs)\u001b[0m\n\u001b[1;32m   1516\u001b[0m             \u001b[0;32mreturn\u001b[0m \u001b[0mself\u001b[0m\u001b[0;34m.\u001b[0m\u001b[0m_compiled_call_impl\u001b[0m\u001b[0;34m(\u001b[0m\u001b[0;34m*\u001b[0m\u001b[0margs\u001b[0m\u001b[0;34m,\u001b[0m \u001b[0;34m**\u001b[0m\u001b[0mkwargs\u001b[0m\u001b[0;34m)\u001b[0m  \u001b[0;31m# type: ignore[misc]\u001b[0m\u001b[0;34m\u001b[0m\u001b[0;34m\u001b[0m\u001b[0m\n\u001b[1;32m   1517\u001b[0m         \u001b[0;32melse\u001b[0m\u001b[0;34m:\u001b[0m\u001b[0;34m\u001b[0m\u001b[0;34m\u001b[0m\u001b[0m\n\u001b[0;32m-> 1518\u001b[0;31m             \u001b[0;32mreturn\u001b[0m \u001b[0mself\u001b[0m\u001b[0;34m.\u001b[0m\u001b[0m_call_impl\u001b[0m\u001b[0;34m(\u001b[0m\u001b[0;34m*\u001b[0m\u001b[0margs\u001b[0m\u001b[0;34m,\u001b[0m \u001b[0;34m**\u001b[0m\u001b[0mkwargs\u001b[0m\u001b[0;34m)\u001b[0m\u001b[0;34m\u001b[0m\u001b[0;34m\u001b[0m\u001b[0m\n\u001b[0m\u001b[1;32m   1519\u001b[0m \u001b[0;34m\u001b[0m\u001b[0m\n\u001b[1;32m   1520\u001b[0m     \u001b[0;32mdef\u001b[0m \u001b[0m_call_impl\u001b[0m\u001b[0;34m(\u001b[0m\u001b[0mself\u001b[0m\u001b[0;34m,\u001b[0m \u001b[0;34m*\u001b[0m\u001b[0margs\u001b[0m\u001b[0;34m,\u001b[0m \u001b[0;34m**\u001b[0m\u001b[0mkwargs\u001b[0m\u001b[0;34m)\u001b[0m\u001b[0;34m:\u001b[0m\u001b[0;34m\u001b[0m\u001b[0;34m\u001b[0m\u001b[0m\n",
            "\u001b[0;32m/usr/local/lib/python3.10/dist-packages/torch/nn/modules/module.py\u001b[0m in \u001b[0;36m_call_impl\u001b[0;34m(self, *args, **kwargs)\u001b[0m\n\u001b[1;32m   1525\u001b[0m                 \u001b[0;32mor\u001b[0m \u001b[0m_global_backward_pre_hooks\u001b[0m \u001b[0;32mor\u001b[0m \u001b[0m_global_backward_hooks\u001b[0m\u001b[0;34m\u001b[0m\u001b[0;34m\u001b[0m\u001b[0m\n\u001b[1;32m   1526\u001b[0m                 or _global_forward_hooks or _global_forward_pre_hooks):\n\u001b[0;32m-> 1527\u001b[0;31m             \u001b[0;32mreturn\u001b[0m \u001b[0mforward_call\u001b[0m\u001b[0;34m(\u001b[0m\u001b[0;34m*\u001b[0m\u001b[0margs\u001b[0m\u001b[0;34m,\u001b[0m \u001b[0;34m**\u001b[0m\u001b[0mkwargs\u001b[0m\u001b[0;34m)\u001b[0m\u001b[0;34m\u001b[0m\u001b[0;34m\u001b[0m\u001b[0m\n\u001b[0m\u001b[1;32m   1528\u001b[0m \u001b[0;34m\u001b[0m\u001b[0m\n\u001b[1;32m   1529\u001b[0m         \u001b[0;32mtry\u001b[0m\u001b[0;34m:\u001b[0m\u001b[0;34m\u001b[0m\u001b[0;34m\u001b[0m\u001b[0m\n",
            "\u001b[0;32m/usr/local/lib/python3.10/dist-packages/torch/nn/modules/container.py\u001b[0m in \u001b[0;36mforward\u001b[0;34m(self, input)\u001b[0m\n\u001b[1;32m    213\u001b[0m     \u001b[0;32mdef\u001b[0m \u001b[0mforward\u001b[0m\u001b[0;34m(\u001b[0m\u001b[0mself\u001b[0m\u001b[0;34m,\u001b[0m \u001b[0minput\u001b[0m\u001b[0;34m)\u001b[0m\u001b[0;34m:\u001b[0m\u001b[0;34m\u001b[0m\u001b[0;34m\u001b[0m\u001b[0m\n\u001b[1;32m    214\u001b[0m         \u001b[0;32mfor\u001b[0m \u001b[0mmodule\u001b[0m \u001b[0;32min\u001b[0m \u001b[0mself\u001b[0m\u001b[0;34m:\u001b[0m\u001b[0;34m\u001b[0m\u001b[0;34m\u001b[0m\u001b[0m\n\u001b[0;32m--> 215\u001b[0;31m             \u001b[0minput\u001b[0m \u001b[0;34m=\u001b[0m \u001b[0mmodule\u001b[0m\u001b[0;34m(\u001b[0m\u001b[0minput\u001b[0m\u001b[0;34m)\u001b[0m\u001b[0;34m\u001b[0m\u001b[0;34m\u001b[0m\u001b[0m\n\u001b[0m\u001b[1;32m    216\u001b[0m         \u001b[0;32mreturn\u001b[0m \u001b[0minput\u001b[0m\u001b[0;34m\u001b[0m\u001b[0;34m\u001b[0m\u001b[0m\n\u001b[1;32m    217\u001b[0m \u001b[0;34m\u001b[0m\u001b[0m\n",
            "\u001b[0;32m/usr/local/lib/python3.10/dist-packages/torch/nn/modules/module.py\u001b[0m in \u001b[0;36m_wrapped_call_impl\u001b[0;34m(self, *args, **kwargs)\u001b[0m\n\u001b[1;32m   1516\u001b[0m             \u001b[0;32mreturn\u001b[0m \u001b[0mself\u001b[0m\u001b[0;34m.\u001b[0m\u001b[0m_compiled_call_impl\u001b[0m\u001b[0;34m(\u001b[0m\u001b[0;34m*\u001b[0m\u001b[0margs\u001b[0m\u001b[0;34m,\u001b[0m \u001b[0;34m**\u001b[0m\u001b[0mkwargs\u001b[0m\u001b[0;34m)\u001b[0m  \u001b[0;31m# type: ignore[misc]\u001b[0m\u001b[0;34m\u001b[0m\u001b[0;34m\u001b[0m\u001b[0m\n\u001b[1;32m   1517\u001b[0m         \u001b[0;32melse\u001b[0m\u001b[0;34m:\u001b[0m\u001b[0;34m\u001b[0m\u001b[0;34m\u001b[0m\u001b[0m\n\u001b[0;32m-> 1518\u001b[0;31m             \u001b[0;32mreturn\u001b[0m \u001b[0mself\u001b[0m\u001b[0;34m.\u001b[0m\u001b[0m_call_impl\u001b[0m\u001b[0;34m(\u001b[0m\u001b[0;34m*\u001b[0m\u001b[0margs\u001b[0m\u001b[0;34m,\u001b[0m \u001b[0;34m**\u001b[0m\u001b[0mkwargs\u001b[0m\u001b[0;34m)\u001b[0m\u001b[0;34m\u001b[0m\u001b[0;34m\u001b[0m\u001b[0m\n\u001b[0m\u001b[1;32m   1519\u001b[0m \u001b[0;34m\u001b[0m\u001b[0m\n\u001b[1;32m   1520\u001b[0m     \u001b[0;32mdef\u001b[0m \u001b[0m_call_impl\u001b[0m\u001b[0;34m(\u001b[0m\u001b[0mself\u001b[0m\u001b[0;34m,\u001b[0m \u001b[0;34m*\u001b[0m\u001b[0margs\u001b[0m\u001b[0;34m,\u001b[0m \u001b[0;34m**\u001b[0m\u001b[0mkwargs\u001b[0m\u001b[0;34m)\u001b[0m\u001b[0;34m:\u001b[0m\u001b[0;34m\u001b[0m\u001b[0;34m\u001b[0m\u001b[0m\n",
            "\u001b[0;32m/usr/local/lib/python3.10/dist-packages/torch/nn/modules/module.py\u001b[0m in \u001b[0;36m_call_impl\u001b[0;34m(self, *args, **kwargs)\u001b[0m\n\u001b[1;32m   1525\u001b[0m                 \u001b[0;32mor\u001b[0m \u001b[0m_global_backward_pre_hooks\u001b[0m \u001b[0;32mor\u001b[0m \u001b[0m_global_backward_hooks\u001b[0m\u001b[0;34m\u001b[0m\u001b[0;34m\u001b[0m\u001b[0m\n\u001b[1;32m   1526\u001b[0m                 or _global_forward_hooks or _global_forward_pre_hooks):\n\u001b[0;32m-> 1527\u001b[0;31m             \u001b[0;32mreturn\u001b[0m \u001b[0mforward_call\u001b[0m\u001b[0;34m(\u001b[0m\u001b[0;34m*\u001b[0m\u001b[0margs\u001b[0m\u001b[0;34m,\u001b[0m \u001b[0;34m**\u001b[0m\u001b[0mkwargs\u001b[0m\u001b[0;34m)\u001b[0m\u001b[0;34m\u001b[0m\u001b[0;34m\u001b[0m\u001b[0m\n\u001b[0m\u001b[1;32m   1528\u001b[0m \u001b[0;34m\u001b[0m\u001b[0m\n\u001b[1;32m   1529\u001b[0m         \u001b[0;32mtry\u001b[0m\u001b[0;34m:\u001b[0m\u001b[0;34m\u001b[0m\u001b[0;34m\u001b[0m\u001b[0m\n",
            "\u001b[0;32m/usr/local/lib/python3.10/dist-packages/torch/nn/modules/conv.py\u001b[0m in \u001b[0;36mforward\u001b[0;34m(self, input)\u001b[0m\n\u001b[1;32m    458\u001b[0m \u001b[0;34m\u001b[0m\u001b[0m\n\u001b[1;32m    459\u001b[0m     \u001b[0;32mdef\u001b[0m \u001b[0mforward\u001b[0m\u001b[0;34m(\u001b[0m\u001b[0mself\u001b[0m\u001b[0;34m,\u001b[0m \u001b[0minput\u001b[0m\u001b[0;34m:\u001b[0m \u001b[0mTensor\u001b[0m\u001b[0;34m)\u001b[0m \u001b[0;34m->\u001b[0m \u001b[0mTensor\u001b[0m\u001b[0;34m:\u001b[0m\u001b[0;34m\u001b[0m\u001b[0;34m\u001b[0m\u001b[0m\n\u001b[0;32m--> 460\u001b[0;31m         \u001b[0;32mreturn\u001b[0m \u001b[0mself\u001b[0m\u001b[0;34m.\u001b[0m\u001b[0m_conv_forward\u001b[0m\u001b[0;34m(\u001b[0m\u001b[0minput\u001b[0m\u001b[0;34m,\u001b[0m \u001b[0mself\u001b[0m\u001b[0;34m.\u001b[0m\u001b[0mweight\u001b[0m\u001b[0;34m,\u001b[0m \u001b[0mself\u001b[0m\u001b[0;34m.\u001b[0m\u001b[0mbias\u001b[0m\u001b[0;34m)\u001b[0m\u001b[0;34m\u001b[0m\u001b[0;34m\u001b[0m\u001b[0m\n\u001b[0m\u001b[1;32m    461\u001b[0m \u001b[0;34m\u001b[0m\u001b[0m\n\u001b[1;32m    462\u001b[0m \u001b[0;32mclass\u001b[0m \u001b[0mConv3d\u001b[0m\u001b[0;34m(\u001b[0m\u001b[0m_ConvNd\u001b[0m\u001b[0;34m)\u001b[0m\u001b[0;34m:\u001b[0m\u001b[0;34m\u001b[0m\u001b[0;34m\u001b[0m\u001b[0m\n",
            "\u001b[0;32m/usr/local/lib/python3.10/dist-packages/torch/nn/modules/conv.py\u001b[0m in \u001b[0;36m_conv_forward\u001b[0;34m(self, input, weight, bias)\u001b[0m\n\u001b[1;32m    454\u001b[0m                             \u001b[0mweight\u001b[0m\u001b[0;34m,\u001b[0m \u001b[0mbias\u001b[0m\u001b[0;34m,\u001b[0m \u001b[0mself\u001b[0m\u001b[0;34m.\u001b[0m\u001b[0mstride\u001b[0m\u001b[0;34m,\u001b[0m\u001b[0;34m\u001b[0m\u001b[0;34m\u001b[0m\u001b[0m\n\u001b[1;32m    455\u001b[0m                             _pair(0), self.dilation, self.groups)\n\u001b[0;32m--> 456\u001b[0;31m         return F.conv2d(input, weight, bias, self.stride,\n\u001b[0m\u001b[1;32m    457\u001b[0m                         self.padding, self.dilation, self.groups)\n\u001b[1;32m    458\u001b[0m \u001b[0;34m\u001b[0m\u001b[0m\n",
            "\u001b[0;31mRuntimeError\u001b[0m: Given groups=1, weight of size [32, 1, 3, 3], expected input[128, 3, 32, 32] to have 1 channels, but got 3 channels instead"
          ]
        }
      ],
      "source": [
        "epochs = 5\n",
        "for epoch in range(1, epochs + 1):\n",
        "    train(cnn, dl_train, optimizer, epoch, log_interval=100)\n",
        "    test(cnn, dl_test)\n",
        "    scheduler.step()"
      ]
    },
    {
      "cell_type": "markdown",
      "metadata": {
        "id": "kowYZxcF_HK9"
      },
      "source": [
        "This will not work. You should see the following error message\n",
        "\n",
        "```\n",
        "Given groups=1, weight of size [32, 1, 3, 3], expected input[128, 3, 32, 32] to have 1 channels, but got 3 channels instead\n",
        "```\n",
        "\n",
        "This error is telling us that something is not right in the definition of our model. Copy the CNN class from above and make changes, so the training works."
      ]
    },
    {
      "cell_type": "code",
      "execution_count": 69,
      "metadata": {
        "id": "2jA2BPyO_HK9"
      },
      "outputs": [],
      "source": [
        "#########################################################################\n",
        "# TODO: Adapt the definition from the CNN class above to work on CIFAR.\n",
        "# You can copy and run the following prompt for evaluation:\n",
        "# CNN()(torch.randn(1,3,32,32)).shape\n",
        "# It should print 'torch.Size([1, 10])'\n",
        "# Hint: You need to change 2 things.\n",
        "#########################################################################\n",
        "\n",
        "class CNN(nn.Module):\n",
        "    def __init__(self):\n",
        "        super(CNN, self).__init__()\n",
        "        self.model = nn.Sequential(\n",
        "            nn.Conv2d(in_channels=3, out_channels=32, kernel_size=(3,3), stride=(1,1), padding=(0,0)),\n",
        "            nn.ReLU(),\n",
        "            nn.Conv2d(in_channels=32, out_channels=64, kernel_size=(3,3), stride=(1,1), padding=(0,0)),\n",
        "            nn.ReLU(),\n",
        "            nn.MaxPool2d(kernel_size=(2,2), stride=(2,2), padding=(0,0)),\n",
        "            nn.Flatten(),\n",
        "            nn.Dropout(p=0.25),  # Dropout after flattening\n",
        "            nn.Linear(in_features=12544, out_features=128),\n",
        "            nn.ReLU(),\n",
        "            nn.Dropout(p=0.5),\n",
        "            nn.Linear(in_features=128, out_features=10)\n",
        "        )\n",
        "\n",
        "    def forward(self, x):\n",
        "        # print(f\"x.shape: {x.shape}\")\n",
        "        return self.model(x)"
      ]
    },
    {
      "cell_type": "markdown",
      "metadata": {
        "id": "QKj3PGjU_HK-"
      },
      "source": [
        "Let's try again"
      ]
    },
    {
      "cell_type": "code",
      "execution_count": 71,
      "metadata": {
        "scrolled": true,
        "colab": {
          "base_uri": "https://localhost:8080/"
        },
        "id": "rwLSr9e4_HK-",
        "outputId": "43fbb94e-ac21-48eb-b1c7-80a2eac31f13"
      },
      "outputs": [
        {
          "output_type": "stream",
          "name": "stderr",
          "text": [
            "/usr/local/lib/python3.10/dist-packages/torch/utils/data/dataloader.py:557: UserWarning: This DataLoader will create 4 worker processes in total. Our suggested max number of worker in current system is 2, which is smaller than what this DataLoader is going to create. Please be aware that excessive worker creation might get DataLoader running slow or even freeze, lower the worker number to avoid potential slowness/freeze if necessary.\n",
            "  warnings.warn(_create_warning_msg(\n"
          ]
        },
        {
          "output_type": "stream",
          "name": "stdout",
          "text": [
            "Train Epoch: 1 [0/50000 (0%)]\tLoss: 2.315444\n",
            "Train Epoch: 1 [12800/50000 (26%)]\tLoss: 1.864252\n",
            "Train Epoch: 1 [25600/50000 (51%)]\tLoss: 1.830414\n",
            "Train Epoch: 1 [38400/50000 (77%)]\tLoss: 1.941705\n",
            "\n",
            "Train set: Average loss: 1.8322, Accuracy: 12947/50000 (25.9%)\n",
            "\n",
            "\n",
            "Test set: Average loss: 1.6617, Accuracy: 3815/10000 (38.150%)\n",
            "\n",
            "Train Epoch: 2 [0/50000 (0%)]\tLoss: 1.757598\n",
            "Train Epoch: 2 [12800/50000 (26%)]\tLoss: 1.802105\n",
            "Train Epoch: 2 [25600/50000 (51%)]\tLoss: 1.624395\n",
            "Train Epoch: 2 [38400/50000 (77%)]\tLoss: 1.777647\n",
            "\n",
            "Train set: Average loss: 1.7907, Accuracy: 17225/50000 (34.5%)\n",
            "\n",
            "\n",
            "Test set: Average loss: 1.4831, Accuracy: 4533/10000 (45.330%)\n",
            "\n",
            "Train Epoch: 3 [0/50000 (0%)]\tLoss: 1.810519\n",
            "Train Epoch: 3 [12800/50000 (26%)]\tLoss: 1.778632\n",
            "Train Epoch: 3 [25600/50000 (51%)]\tLoss: 1.721726\n",
            "Train Epoch: 3 [38400/50000 (77%)]\tLoss: 1.591149\n",
            "\n",
            "Train set: Average loss: 1.7068, Accuracy: 18507/50000 (37.0%)\n",
            "\n",
            "\n",
            "Test set: Average loss: 1.5028, Accuracy: 4511/10000 (45.110%)\n",
            "\n",
            "Train Epoch: 4 [0/50000 (0%)]\tLoss: 1.677121\n",
            "Train Epoch: 4 [12800/50000 (26%)]\tLoss: 1.828502\n",
            "Train Epoch: 4 [25600/50000 (51%)]\tLoss: 1.685248\n",
            "Train Epoch: 4 [38400/50000 (77%)]\tLoss: 1.515590\n",
            "\n",
            "Train set: Average loss: 1.6764, Accuracy: 18945/50000 (37.9%)\n",
            "\n",
            "\n",
            "Test set: Average loss: 1.4964, Accuracy: 4697/10000 (46.970%)\n",
            "\n",
            "Train Epoch: 5 [0/50000 (0%)]\tLoss: 1.397567\n",
            "Train Epoch: 5 [12800/50000 (26%)]\tLoss: 1.618205\n",
            "Train Epoch: 5 [25600/50000 (51%)]\tLoss: 1.586339\n",
            "Train Epoch: 5 [38400/50000 (77%)]\tLoss: 1.693543\n",
            "\n",
            "Train set: Average loss: 1.6703, Accuracy: 19652/50000 (39.3%)\n",
            "\n",
            "\n",
            "Test set: Average loss: 1.4070, Accuracy: 4863/10000 (48.630%)\n",
            "\n",
            "Train Epoch: 6 [0/50000 (0%)]\tLoss: 1.481947\n",
            "Train Epoch: 6 [12800/50000 (26%)]\tLoss: 1.656423\n",
            "Train Epoch: 6 [25600/50000 (51%)]\tLoss: 1.522030\n",
            "Train Epoch: 6 [38400/50000 (77%)]\tLoss: 1.629586\n",
            "\n",
            "Train set: Average loss: 1.5950, Accuracy: 20472/50000 (40.9%)\n",
            "\n",
            "\n",
            "Test set: Average loss: 1.4753, Accuracy: 4665/10000 (46.650%)\n",
            "\n",
            "Train Epoch: 7 [0/50000 (0%)]\tLoss: 1.886494\n",
            "Train Epoch: 7 [12800/50000 (26%)]\tLoss: 1.770185\n",
            "Train Epoch: 7 [25600/50000 (51%)]\tLoss: 1.620141\n",
            "Train Epoch: 7 [38400/50000 (77%)]\tLoss: 1.504474\n",
            "\n",
            "Train set: Average loss: 1.6257, Accuracy: 20556/50000 (41.1%)\n",
            "\n",
            "\n",
            "Test set: Average loss: 1.3518, Accuracy: 5239/10000 (52.390%)\n",
            "\n",
            "Train Epoch: 8 [0/50000 (0%)]\tLoss: 1.711290\n",
            "Train Epoch: 8 [12800/50000 (26%)]\tLoss: 1.641759\n",
            "Train Epoch: 8 [25600/50000 (51%)]\tLoss: 1.675023\n",
            "Train Epoch: 8 [38400/50000 (77%)]\tLoss: 1.501010\n",
            "\n",
            "Train set: Average loss: 1.7511, Accuracy: 21232/50000 (42.5%)\n",
            "\n",
            "\n",
            "Test set: Average loss: 1.3499, Accuracy: 5129/10000 (51.290%)\n",
            "\n",
            "Train Epoch: 9 [0/50000 (0%)]\tLoss: 1.482178\n",
            "Train Epoch: 9 [12800/50000 (26%)]\tLoss: 1.503869\n",
            "Train Epoch: 9 [25600/50000 (51%)]\tLoss: 1.585268\n",
            "Train Epoch: 9 [38400/50000 (77%)]\tLoss: 1.637139\n",
            "\n",
            "Train set: Average loss: 1.6004, Accuracy: 21391/50000 (42.8%)\n",
            "\n",
            "\n",
            "Test set: Average loss: 1.4196, Accuracy: 4851/10000 (48.510%)\n",
            "\n",
            "Train Epoch: 10 [0/50000 (0%)]\tLoss: 1.649418\n",
            "Train Epoch: 10 [12800/50000 (26%)]\tLoss: 1.578653\n",
            "Train Epoch: 10 [25600/50000 (51%)]\tLoss: 1.628335\n",
            "Train Epoch: 10 [38400/50000 (77%)]\tLoss: 1.434548\n",
            "\n",
            "Train set: Average loss: 1.6352, Accuracy: 21053/50000 (42.1%)\n",
            "\n",
            "\n",
            "Test set: Average loss: 1.3469, Accuracy: 5107/10000 (51.070%)\n",
            "\n"
          ]
        }
      ],
      "source": [
        "cnn = CNN()\n",
        "optimizer = optim.SGD(cnn.parameters(), lr=0.1, momentum=0.9, weight_decay=5e-4)\n",
        "scheduler = torch.optim.lr_scheduler.CosineAnnealingLR(optimizer, T_max=200)\n",
        "\n",
        "epochs = 10\n",
        "for epoch in range(1, epochs + 1):\n",
        "    train(cnn, dl_train, optimizer, epoch, log_interval=100, device=device)\n",
        "    test(cnn, dl_test, device=device)\n",
        "    scheduler.step()"
      ]
    },
    {
      "cell_type": "markdown",
      "metadata": {
        "id": "Z83Aahny_HK-"
      },
      "source": [
        "This should give 40 - 50 % - and if you are not already on Colab it will give you a stressed out laptop. The performance is a lot better than random, but we can definitely do better."
      ]
    },
    {
      "cell_type": "markdown",
      "metadata": {
        "id": "4X5mkchw_HK-"
      },
      "source": [
        "### Have fun with GPUs\n",
        "You can already call it a day until this point because we won't grade the rest of the excecise. You can have more fun with the rest :)\n"
      ]
    },
    {
      "cell_type": "markdown",
      "metadata": {
        "id": "MvqxN_cd_HK_"
      },
      "source": [
        "\n",
        "If you didn't already, move to colab. To use a GPU, follow on the collaboratory menu tabs, \"Runtime\" => \"Change runtime type\" and set it to GPU. Then run the same training loop but now on GPU.\n",
        "\n",
        "It as easy as:"
      ]
    },
    {
      "cell_type": "code",
      "execution_count": null,
      "metadata": {
        "id": "JghXwMtj_HK_"
      },
      "outputs": [],
      "source": [
        "device = 'cuda'\n",
        "if device == 'cuda': torch.backends.cudnn.benchmark = True # additional speed up\n",
        "\n",
        "cnn = CNN()\n",
        "optimizer = optim.SGD(cnn.parameters(), lr=0.1, momentum=0.9, weight_decay=5e-4)\n",
        "scheduler = torch.optim.lr_scheduler.CosineAnnealingLR(optimizer, T_max=200)\n",
        "cnn = cnn.to(device)\n",
        "\n",
        "epochs = 10\n",
        "for epoch in range(1, epochs + 1):\n",
        "    train(cnn, dl_train, optimizer, epoch, log_interval=100, device=device)\n",
        "    test(cnn, dl_test, device=device)\n",
        "    scheduler.step()"
      ]
    },
    {
      "cell_type": "markdown",
      "metadata": {
        "id": "Aw5cp0Qr_HK_"
      },
      "source": [
        "This should be way faster now. But the true advantage of the GPU is that we can use much bigger models now and still train them in a reasonable amount of time. PyTorch is again very handy. The torchvision library comes with varies state-of-the-art model architectures, some of which you have seen in the lecture."
      ]
    },
    {
      "cell_type": "code",
      "execution_count": null,
      "metadata": {
        "id": "eIwW9I7q_HK_"
      },
      "outputs": [],
      "source": [
        "from torchvision.models import resnet18"
      ]
    },
    {
      "cell_type": "code",
      "execution_count": null,
      "metadata": {
        "scrolled": true,
        "id": "MRjDZ-TG_HLA"
      },
      "outputs": [],
      "source": [
        "cnn = resnet18()\n",
        "print(cnn)"
      ]
    },
    {
      "cell_type": "markdown",
      "metadata": {
        "id": "CtgHy81J_HLA"
      },
      "source": [
        "Looks scary! But the only thing you need to change to make it work on CIFAR is the last layer.\n",
        "Currently the last layer is:\n",
        "```\n",
        "  (fc): Linear(in_features=512, out_features=1000, bias=True)\n",
        "```\n",
        "out_features is the number of classes. This models are developed for Imagenet, a dataset with 1000 classes. So this part of the model you need to adapt. Additionally, you need to add a log-softmax layer again, as we us negative log-likelihood as the training criterion."
      ]
    },
    {
      "cell_type": "code",
      "execution_count": null,
      "metadata": {
        "id": "NBll3Pyg_HLA"
      },
      "outputs": [],
      "source": [
        "#########################################################################\n",
        "# TODO: Adapt the Resnet to work on CIFAR\n",
        "#########################################################################\n"
      ]
    },
    {
      "cell_type": "code",
      "execution_count": null,
      "metadata": {
        "id": "qOFOS3UG_HLA"
      },
      "outputs": [],
      "source": [
        "# This should print 'torch.Size([16, 10])'\n",
        "cnn(torch.randn(16,3,32,32)).shape"
      ]
    },
    {
      "cell_type": "code",
      "execution_count": null,
      "metadata": {
        "id": "bEsiHU1E_HLB"
      },
      "outputs": [],
      "source": [
        "device = 'cuda'\n",
        "if device == 'cuda': torch.backends.cudnn.benchmark = True # this gives us additional speed up\n",
        "\n",
        "optimizer = optim.SGD(cnn.parameters(), lr=0.1, momentum=0.9, weight_decay=5e-4)\n",
        "scheduler = torch.optim.lr_scheduler.CosineAnnealingLR(optimizer, T_max=200)\n",
        "cnn = cnn.to(device)\n",
        "\n",
        "epochs = 50\n",
        "for epoch in range(1, epochs + 1):\n",
        "    train(cnn, dl_train, optimizer, epoch, log_interval=100, device=device)\n",
        "    test(cnn, dl_test, device=device)\n",
        "    scheduler.step()"
      ]
    },
    {
      "cell_type": "markdown",
      "metadata": {
        "id": "IIjVvWBw_HLB"
      },
      "source": [
        "This should get us well above 75%, the best we got was ~ 80%.\n",
        "\n",
        "Now, use different torchvision architectures, different optimizers (Adam is always a good choice), data augmentation techniques, and hyperparameter search to achieve a test accuracy of >90 %"
      ]
    },
    {
      "cell_type": "code",
      "execution_count": null,
      "metadata": {
        "id": "pt6l0uu0_HLB"
      },
      "outputs": [],
      "source": []
    }
  ],
  "metadata": {
    "kernelspec": {
      "display_name": "Python 3",
      "name": "python3"
    },
    "language_info": {
      "codemirror_mode": {
        "name": "ipython",
        "version": 3
      },
      "file_extension": ".py",
      "mimetype": "text/x-python",
      "name": "python",
      "nbconvert_exporter": "python",
      "pygments_lexer": "ipython3",
      "version": "3.10.13"
    },
    "vscode": {
      "interpreter": {
        "hash": "d268b61a0efacafa8645774cb6d0204c9f01d7563ef03f7672146d044e8f345c"
      }
    },
    "colab": {
      "provenance": [],
      "gpuType": "T4"
    },
    "accelerator": "GPU"
  },
  "nbformat": 4,
  "nbformat_minor": 0
}